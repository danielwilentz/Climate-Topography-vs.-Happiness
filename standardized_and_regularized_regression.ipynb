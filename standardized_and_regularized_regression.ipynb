{
 "cells": [
  {
   "cell_type": "code",
   "execution_count": 322,
   "metadata": {},
   "outputs": [
    {
     "name": "stdout",
     "output_type": "stream",
     "text": [
      "Populating the interactive namespace from numpy and matplotlib\n"
     ]
    }
   ],
   "source": [
    "# Necessary imports\n",
    "import pandas as pd\n",
    "import numpy as np\n",
    "import statsmodels.api as sm\n",
    "import statsmodels.formula.api as smf\n",
    "import patsy\n",
    "import scipy.stats as stats\n",
    "\n",
    "import seaborn as sns\n",
    "import matplotlib.pyplot as plt\n",
    "from sklearn.linear_model import LinearRegression, Lasso, LassoCV, Ridge, RidgeCV\n",
    "from sklearn.metrics import r2_score\n",
    "from sklearn.model_selection import train_test_split, GridSearchCV\n",
    "from sklearn.pipeline import Pipeline\n",
    "from sklearn.preprocessing import StandardScaler\n",
    "\n",
    "# get rid of warnings\n",
    "import warnings\n",
    "warnings.filterwarnings('ignore')\n",
    "\n",
    "%matplotlib inline\n",
    "%pylab inline\n",
    "sns.set()"
   ]
  },
  {
   "cell_type": "code",
   "execution_count": 3,
   "metadata": {},
   "outputs": [],
   "source": [
    "# Load the data file (with new features already engineered)\n",
    "df = pd.read_pickle('data/w_eng_features.pkl')"
   ]
  },
  {
   "cell_type": "code",
   "execution_count": 7,
   "metadata": {},
   "outputs": [
    {
     "data": {
      "text/html": [
       "<div>\n",
       "<style scoped>\n",
       "    .dataframe tbody tr th:only-of-type {\n",
       "        vertical-align: middle;\n",
       "    }\n",
       "\n",
       "    .dataframe tbody tr th {\n",
       "        vertical-align: top;\n",
       "    }\n",
       "\n",
       "    .dataframe thead th {\n",
       "        text-align: right;\n",
       "    }\n",
       "</style>\n",
       "<table border=\"1\" class=\"dataframe\">\n",
       "  <thead>\n",
       "    <tr style=\"text-align: right;\">\n",
       "      <th></th>\n",
       "      <th>air_quality</th>\n",
       "      <th>rel_humidity</th>\n",
       "      <th>avg_num_clear_days</th>\n",
       "      <th>pct_area_water</th>\n",
       "      <th>rainfall_inches</th>\n",
       "      <th>temp_f</th>\n",
       "      <th>highest_point_ft</th>\n",
       "      <th>mean_elevation_ft</th>\n",
       "      <th>happiness_avg</th>\n",
       "      <th>HM__x__RF</th>\n",
       "      <th>TM__x__RF</th>\n",
       "      <th>HP__x__ME</th>\n",
       "      <th>pct_area_water_bc</th>\n",
       "      <th>mean_elevation_bc</th>\n",
       "      <th>hp_bc</th>\n",
       "    </tr>\n",
       "  </thead>\n",
       "  <tbody>\n",
       "    <tr>\n",
       "      <th>Alabama</th>\n",
       "      <td>46.6</td>\n",
       "      <td>52.0</td>\n",
       "      <td>99.0</td>\n",
       "      <td>3.4</td>\n",
       "      <td>58.3</td>\n",
       "      <td>62.8</td>\n",
       "      <td>2413.0</td>\n",
       "      <td>500.0</td>\n",
       "      <td>53.72</td>\n",
       "      <td>3031.6</td>\n",
       "      <td>3661.24</td>\n",
       "      <td>1206500.0</td>\n",
       "      <td>1.045041</td>\n",
       "      <td>9.396474</td>\n",
       "      <td>19.679026</td>\n",
       "    </tr>\n",
       "    <tr>\n",
       "      <th>Alaska</th>\n",
       "      <td>29.1</td>\n",
       "      <td>64.0</td>\n",
       "      <td>61.0</td>\n",
       "      <td>14.2</td>\n",
       "      <td>22.5</td>\n",
       "      <td>26.6</td>\n",
       "      <td>20310.0</td>\n",
       "      <td>1900.0</td>\n",
       "      <td>54.60</td>\n",
       "      <td>1440.0</td>\n",
       "      <td>598.50</td>\n",
       "      <td>38589000.0</td>\n",
       "      <td>1.100227</td>\n",
       "      <td>12.555791</td>\n",
       "      <td>33.467698</td>\n",
       "    </tr>\n",
       "    <tr>\n",
       "      <th>Arizona</th>\n",
       "      <td>45.4</td>\n",
       "      <td>25.0</td>\n",
       "      <td>193.0</td>\n",
       "      <td>0.3</td>\n",
       "      <td>13.6</td>\n",
       "      <td>60.3</td>\n",
       "      <td>12637.0</td>\n",
       "      <td>4100.0</td>\n",
       "      <td>59.51</td>\n",
       "      <td>340.0</td>\n",
       "      <td>820.08</td>\n",
       "      <td>51811700.0</td>\n",
       "      <td>0.957583</td>\n",
       "      <td>14.630178</td>\n",
       "      <td>29.842066</td>\n",
       "    </tr>\n",
       "    <tr>\n",
       "      <th>Arkansas</th>\n",
       "      <td>43.1</td>\n",
       "      <td>49.0</td>\n",
       "      <td>123.0</td>\n",
       "      <td>2.1</td>\n",
       "      <td>50.6</td>\n",
       "      <td>60.4</td>\n",
       "      <td>2753.0</td>\n",
       "      <td>650.0</td>\n",
       "      <td>52.27</td>\n",
       "      <td>2479.4</td>\n",
       "      <td>3056.24</td>\n",
       "      <td>1789450.0</td>\n",
       "      <td>1.027070</td>\n",
       "      <td>9.976459</td>\n",
       "      <td>20.365059</td>\n",
       "    </tr>\n",
       "    <tr>\n",
       "      <th>California</th>\n",
       "      <td>46.0</td>\n",
       "      <td>62.0</td>\n",
       "      <td>146.0</td>\n",
       "      <td>4.8</td>\n",
       "      <td>22.2</td>\n",
       "      <td>59.4</td>\n",
       "      <td>14505.0</td>\n",
       "      <td>2900.0</td>\n",
       "      <td>62.81</td>\n",
       "      <td>1376.4</td>\n",
       "      <td>1318.68</td>\n",
       "      <td>42064500.0</td>\n",
       "      <td>1.058095</td>\n",
       "      <td>13.671538</td>\n",
       "      <td>30.858547</td>\n",
       "    </tr>\n",
       "  </tbody>\n",
       "</table>\n",
       "</div>"
      ],
      "text/plain": [
       "            air_quality  rel_humidity  avg_num_clear_days  pct_area_water  \\\n",
       "Alabama            46.6          52.0                99.0             3.4   \n",
       "Alaska             29.1          64.0                61.0            14.2   \n",
       "Arizona            45.4          25.0               193.0             0.3   \n",
       "Arkansas           43.1          49.0               123.0             2.1   \n",
       "California         46.0          62.0               146.0             4.8   \n",
       "\n",
       "            rainfall_inches  temp_f  highest_point_ft  mean_elevation_ft  \\\n",
       "Alabama                58.3    62.8            2413.0              500.0   \n",
       "Alaska                 22.5    26.6           20310.0             1900.0   \n",
       "Arizona                13.6    60.3           12637.0             4100.0   \n",
       "Arkansas               50.6    60.4            2753.0              650.0   \n",
       "California             22.2    59.4           14505.0             2900.0   \n",
       "\n",
       "            happiness_avg  HM__x__RF  TM__x__RF   HP__x__ME  \\\n",
       "Alabama             53.72     3031.6    3661.24   1206500.0   \n",
       "Alaska              54.60     1440.0     598.50  38589000.0   \n",
       "Arizona             59.51      340.0     820.08  51811700.0   \n",
       "Arkansas            52.27     2479.4    3056.24   1789450.0   \n",
       "California          62.81     1376.4    1318.68  42064500.0   \n",
       "\n",
       "            pct_area_water_bc  mean_elevation_bc      hp_bc  \n",
       "Alabama              1.045041           9.396474  19.679026  \n",
       "Alaska               1.100227          12.555791  33.467698  \n",
       "Arizona              0.957583          14.630178  29.842066  \n",
       "Arkansas             1.027070           9.976459  20.365059  \n",
       "California           1.058095          13.671538  30.858547  "
      ]
     },
     "execution_count": 7,
     "metadata": {},
     "output_type": "execute_result"
    }
   ],
   "source": [
    "df.head(5)"
   ]
  },
  {
   "cell_type": "markdown",
   "metadata": {},
   "source": [
    "#### Setting up for modeling:"
   ]
  },
  {
   "cell_type": "code",
   "execution_count": 84,
   "metadata": {},
   "outputs": [],
   "source": [
    "X = df.loc[:,['air_quality', 'rel_humidity', 'avg_num_clear_days',\n",
    "                     'pct_area_water', 'rainfall_inches', 'temp_f',\n",
    "                     'highest_point_ft', 'mean_elevation_ft', 'HM__x__RF',\n",
    "                     'TM__x__RF', 'HP__x__ME', 'pct_area_water_bc', \n",
    "                      'mean_elevation_bc', 'hp_bc']]\n",
    "\n",
    "y = df['happiness_avg']\n",
    "\n",
    "# create overall quality squared term, which we expect to \n",
    "# help based on the relationship we see in the pair plot "
   ]
  },
  {
   "cell_type": "code",
   "execution_count": 85,
   "metadata": {},
   "outputs": [],
   "source": [
    "## Split the data 80 - 20 train_val/test\n",
    "\n",
    "X_train_val, X_test, y_train_val, y_test = train_test_split(X, y, test_size=0.1)\n",
    "# X_train, X_val, y_train, y_val = train_test_split(X_train_val, y_train_val, test_size=.25, random_state=43)"
   ]
  },
  {
   "cell_type": "code",
   "execution_count": 86,
   "metadata": {},
   "outputs": [
    {
     "data": {
      "text/plain": [
       "StandardScaler(copy=True, with_mean=True, with_std=True)"
      ]
     },
     "execution_count": 86,
     "metadata": {},
     "output_type": "execute_result"
    }
   ],
   "source": [
    "## Scale the data\n",
    "std = StandardScaler()\n",
    "std.fit(X_train_val.values)"
   ]
  },
  {
   "cell_type": "code",
   "execution_count": 87,
   "metadata": {},
   "outputs": [],
   "source": [
    "## Scale the Predictors on both the train and test set\n",
    "X_tr = std.transform(X_train_val.values)\n",
    "X_te = std.transform(X_test.values)"
   ]
  },
  {
   "cell_type": "markdown",
   "metadata": {},
   "source": [
    "## Run a LassoCV Model"
   ]
  },
  {
   "cell_type": "code",
   "execution_count": 200,
   "metadata": {},
   "outputs": [
    {
     "data": {
      "text/plain": [
       "LassoCV(alphas=array([1.00000e-02, 1.02335e-02, ..., 9.77181e+01, 1.00000e+02]),\n",
       "    copy_X=True, cv=5, eps=0.001, fit_intercept=True, max_iter=1000,\n",
       "    n_alphas=100, n_jobs=None, normalize=False, positive=False,\n",
       "    precompute='auto', random_state=None, selection='cyclic', tol=0.0001,\n",
       "    verbose=False)"
      ]
     },
     "execution_count": 200,
     "metadata": {},
     "output_type": "execute_result"
    }
   ],
   "source": [
    "# Run the cross validation, find the best alpha, refit the model on all the data with that alpha\n",
    "\n",
    "alphavec_l = 10**np.linspace(-2,2,400)\n",
    "\n",
    "lasso_model = LassoCV(alphas = alphavec_l, cv=5)\n",
    "lasso_model.fit(X_tr, y_train_val)"
   ]
  },
  {
   "cell_type": "code",
   "execution_count": 201,
   "metadata": {},
   "outputs": [
    {
     "data": {
      "text/plain": [
       "0.29763514416313175"
      ]
     },
     "execution_count": 201,
     "metadata": {},
     "output_type": "execute_result"
    }
   ],
   "source": [
    "# This is the best LASSO alpha value it found\n",
    "lasso_model.alpha_"
   ]
  },
  {
   "cell_type": "code",
   "execution_count": 202,
   "metadata": {},
   "outputs": [
    {
     "data": {
      "text/plain": [
       "[('air_quality', -0.23903036947702255),\n",
       " ('rel_humidity', -0.0),\n",
       " ('avg_num_clear_days', 0.0),\n",
       " ('pct_area_water', 0.0),\n",
       " ('rainfall_inches', -0.0),\n",
       " ('temp_f', 0.0),\n",
       " ('highest_point_ft', -0.0),\n",
       " ('mean_elevation_ft', 0.0),\n",
       " ('HM__x__RF', -0.9266674406482377),\n",
       " ('TM__x__RF', -0.0),\n",
       " ('HP__x__ME', 0.0),\n",
       " ('pct_area_water_bc', 1.211661913410343),\n",
       " ('mean_elevation_bc', 0.7004106917018783),\n",
       " ('hp_bc', 0.0)]"
      ]
     },
     "execution_count": 202,
     "metadata": {},
     "output_type": "execute_result"
    }
   ],
   "source": [
    "list(zip(X_train_val.columns, lasso_model.coef_))"
   ]
  },
  {
   "cell_type": "code",
   "execution_count": 203,
   "metadata": {},
   "outputs": [],
   "source": [
    "# Make predictions on the test set using the LASSO model\n",
    "test_set_pred_lasso = lasso_model.predict(X_te)"
   ]
  },
  {
   "cell_type": "code",
   "execution_count": 204,
   "metadata": {},
   "outputs": [],
   "source": [
    "#Mean Absolute Error (MAE)\n",
    "def mae(y_true, y_pred):\n",
    "    return np.mean(np.abs(y_pred - y_true)) "
   ]
  },
  {
   "cell_type": "code",
   "execution_count": 260,
   "metadata": {},
   "outputs": [],
   "source": [
    "#Mean Squared Error (MSE)\n",
    "def mse(y_true, y_pred):\n",
    "    return np.mean(np.square(y_pred - y_true)) "
   ]
  },
  {
   "cell_type": "code",
   "execution_count": 235,
   "metadata": {},
   "outputs": [
    {
     "data": {
      "text/plain": [
       "50"
      ]
     },
     "execution_count": 235,
     "metadata": {},
     "output_type": "execute_result"
    }
   ],
   "source": [
    "#Adjusted R-squared\n",
    "def get_adj_r2(r2, n, p):\n",
    "    return 1-(1-r2)*(n-1)/(n-1-p)\n",
    "\n",
    "X.shape[0]"
   ]
  },
  {
   "cell_type": "code",
   "execution_count": 261,
   "metadata": {},
   "outputs": [
    {
     "data": {
      "text/plain": [
       "2.792142244382581"
      ]
     },
     "execution_count": 261,
     "metadata": {},
     "output_type": "execute_result"
    }
   ],
   "source": [
    "# Find the MSE and R^2 on the test set using this LASSO model\n",
    "mse(y_test, test_set_pred_lasso)"
   ]
  },
  {
   "cell_type": "code",
   "execution_count": 250,
   "metadata": {},
   "outputs": [
    {
     "data": {
      "text/plain": [
       "0.5613591135282743"
      ]
     },
     "execution_count": 250,
     "metadata": {},
     "output_type": "execute_result"
    }
   ],
   "source": [
    "# Find r2 score for LASSO\n",
    "r2_lasso = r2_score(y_test, test_set_pred_lasso)\n",
    "r2_lasso"
   ]
  },
  {
   "cell_type": "code",
   "execution_count": 251,
   "metadata": {},
   "outputs": [
    {
     "data": {
      "text/plain": [
       "0.38590275893958403"
      ]
     },
     "execution_count": 251,
     "metadata": {},
     "output_type": "execute_result"
    }
   ],
   "source": [
    "# Find adjusted r2 score for LASSO\n",
    "adj_r2_lasso = get_adj_r2(r2_lasso, X.shape[0], X.shape[1])\n",
    "adj_r2_lasso"
   ]
  },
  {
   "cell_type": "code",
   "execution_count": 207,
   "metadata": {},
   "outputs": [
    {
     "data": {
      "text/plain": [
       "LassoCV(alphas=array([1.00000e-02, 1.02335e-02, ..., 9.77181e+01, 1.00000e+02]),\n",
       "    copy_X=True, cv=5, eps=0.001, fit_intercept=True, max_iter=1000,\n",
       "    n_alphas=100, n_jobs=None, normalize=False, positive=False,\n",
       "    precompute='auto', random_state=None, selection='cyclic', tol=0.0001,\n",
       "    verbose=False)"
      ]
     },
     "execution_count": 207,
     "metadata": {},
     "output_type": "execute_result"
    }
   ],
   "source": [
    "lasso_model"
   ]
  },
  {
   "cell_type": "markdown",
   "metadata": {},
   "source": [
    "## Run a RidgeCV Model"
   ]
  },
  {
   "cell_type": "code",
   "execution_count": 314,
   "metadata": {},
   "outputs": [
    {
     "data": {
      "text/plain": [
       "RidgeCV(alphas=array([1.00000e+00, 1.02335e+00, ..., 9.77181e+03, 1.00000e+04]),\n",
       "    cv=5, fit_intercept=True, gcv_mode=None, normalize=False, scoring=None,\n",
       "    store_cv_values=False)"
      ]
     },
     "execution_count": 314,
     "metadata": {},
     "output_type": "execute_result"
    }
   ],
   "source": [
    "# Run the cross validation, find the best alpha, refit the model on all the data with that alpha\n",
    "\n",
    "# alphavec_r = 10**np.linspace(-2,0,400)\n",
    "alphavec_r = np.logspace(-2,2,400)\n",
    "\n",
    "ridge_model = RidgeCV(alphas = alphavec_r, cv=5)\n",
    "ridge_model.fit(X_tr, y_train_val)"
   ]
  },
  {
   "cell_type": "code",
   "execution_count": 315,
   "metadata": {},
   "outputs": [
    {
     "data": {
      "text/plain": [
       "98.85245709128276"
      ]
     },
     "execution_count": 315,
     "metadata": {},
     "output_type": "execute_result"
    }
   ],
   "source": [
    "# This is the best RIDGE alpha value found\n",
    "ridge_model.alpha_"
   ]
  },
  {
   "cell_type": "code",
   "execution_count": 316,
   "metadata": {},
   "outputs": [
    {
     "data": {
      "text/plain": [
       "[('air_quality', -0.2144141117625792),\n",
       " ('rel_humidity', -0.0008763610258530456),\n",
       " ('avg_num_clear_days', 0.07024672410494597),\n",
       " ('pct_area_water', 0.21743838168867827),\n",
       " ('rainfall_inches', -0.18284990562504064),\n",
       " ('temp_f', -0.06746996051873774),\n",
       " ('highest_point_ft', 0.028193389025369706),\n",
       " ('mean_elevation_ft', 0.123068475814379),\n",
       " ('HM__x__RF', -0.17983927120667292),\n",
       " ('TM__x__RF', -0.15910062038959272),\n",
       " ('HP__x__ME', 0.06552191603010099),\n",
       " ('pct_area_water_bc', 0.28203619835508326),\n",
       " ('mean_elevation_bc', 0.17204039786179573),\n",
       " ('hp_bc', 0.10127310861189302)]"
      ]
     },
     "execution_count": 316,
     "metadata": {},
     "output_type": "execute_result"
    }
   ],
   "source": [
    "# These are the (standardized) coefficients found\n",
    "# when it refit using that best alpha\n",
    "list(zip(X_train_val.columns, ridge_model.coef_))"
   ]
  },
  {
   "cell_type": "code",
   "execution_count": 317,
   "metadata": {},
   "outputs": [],
   "source": [
    "# Make predictions on the test set using the RIDGE model\n",
    "test_set_pred_ridge = ridge_model.predict(X_te)"
   ]
  },
  {
   "cell_type": "code",
   "execution_count": 318,
   "metadata": {},
   "outputs": [
    {
     "data": {
      "text/plain": [
       "3.8733777205239512"
      ]
     },
     "execution_count": 318,
     "metadata": {},
     "output_type": "execute_result"
    }
   ],
   "source": [
    "# Find the MSE and R^2 on the test set using this RIDGE model\n",
    "# use mean squared error\n",
    "mse(y_test, test_set_pred_ridge)"
   ]
  },
  {
   "cell_type": "code",
   "execution_count": 319,
   "metadata": {},
   "outputs": [
    {
     "data": {
      "text/plain": [
       "0.39149882482217235"
      ]
     },
     "execution_count": 319,
     "metadata": {},
     "output_type": "execute_result"
    }
   ],
   "source": [
    "# Find r2 score for RIDGE\n",
    "r2_ridge = r2_score(y_test, test_set_pred_ridge)\n",
    "r2_ridge"
   ]
  },
  {
   "cell_type": "code",
   "execution_count": 320,
   "metadata": {},
   "outputs": [
    {
     "data": {
      "text/plain": [
       "0.14809835475104138"
      ]
     },
     "execution_count": 320,
     "metadata": {},
     "output_type": "execute_result"
    }
   ],
   "source": [
    "# Find adjusted r2 score for LASSO\n",
    "adj_r2_ridge = get_adj_r2(r2_ridge, X.shape[0], X.shape[1])\n",
    "adj_r2_ridge"
   ]
  },
  {
   "cell_type": "markdown",
   "metadata": {},
   "source": [
    "# RidgeCV is being weird. Let's try GridSearch instead"
   ]
  },
  {
   "cell_type": "code",
   "execution_count": 324,
   "metadata": {},
   "outputs": [
    {
     "name": "stdout",
     "output_type": "stream",
     "text": [
      "GridSearchCV(cv='warn', error_score='raise-deprecating',\n",
      "       estimator=Ridge(alpha=1.0, copy_X=True, fit_intercept=True, max_iter=None,\n",
      "   normalize=False, random_state=None, solver='auto', tol=0.001),\n",
      "       fit_params=None, iid='warn', n_jobs=None,\n",
      "       param_grid={'alpha': array([1.00000e+00, 1.02335e+00, ..., 9.77181e+03, 1.00000e+04])},\n",
      "       pre_dispatch='2*n_jobs', refit=True, return_train_score='warn',\n",
      "       scoring=None, verbose=0)\n",
      "-0.0040563871360431\n",
      "88.07692733975462\n"
     ]
    }
   ],
   "source": [
    "# Grid Search for Algorithm Tuning\n",
    "\n",
    "# Use the same list of alphas as I did for RidgeCV (alphavec_r)\n",
    "\n",
    "# create and fit a ridge regression model, testing each alpha\n",
    "model = Ridge()\n",
    "grid = GridSearchCV(estimator=model, param_grid=dict(alpha=alphavec_r))\n",
    "grid.fit(X_tr, y_train_val)\n",
    "print(grid)\n",
    "# summarize the results of the grid search\n",
    "print(grid.best_score_)\n",
    "print(grid.best_estimator_.alpha)"
   ]
  },
  {
   "cell_type": "code",
   "execution_count": null,
   "metadata": {},
   "outputs": [],
   "source": []
  }
 ],
 "metadata": {
  "kernelspec": {
   "display_name": "Python 3",
   "language": "python",
   "name": "python3"
  },
  "language_info": {
   "codemirror_mode": {
    "name": "ipython",
    "version": 3
   },
   "file_extension": ".py",
   "mimetype": "text/x-python",
   "name": "python",
   "nbconvert_exporter": "python",
   "pygments_lexer": "ipython3",
   "version": "3.7.2"
  }
 },
 "nbformat": 4,
 "nbformat_minor": 2
}
