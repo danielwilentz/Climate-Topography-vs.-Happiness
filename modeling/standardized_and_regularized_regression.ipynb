{
 "cells": [
  {
   "cell_type": "code",
   "execution_count": null,
   "metadata": {},
   "outputs": [],
   "source": [
    "# Necessary imports\n",
    "import pandas as pd\n",
    "import numpy as np\n",
    "import statsmodels.api as sm\n",
    "import statsmodels.formula.api as smf\n",
    "import patsy\n",
    "import scipy.stats as stats\n",
    "\n",
    "import seaborn as sns\n",
    "import matplotlib.pyplot as plt\n",
    "from sklearn.linear_model import LinearRegression, Lasso, LassoCV, Ridge, RidgeCV\n",
    "from sklearn.metrics import r2_score\n",
    "from sklearn.model_selection import train_test_split, GridSearchCV\n",
    "from sklearn.pipeline import Pipeline\n",
    "from sklearn.preprocessing import StandardScaler\n",
    "import pickle\n",
    "\n",
    "# get rid of warnings\n",
    "import warnings\n",
    "warnings.filterwarnings('ignore')\n",
    "\n",
    "%matplotlib inline\n",
    "%pylab inline"
   ]
  },
  {
   "cell_type": "code",
   "execution_count": null,
   "metadata": {},
   "outputs": [],
   "source": [
    "# Load the data file (with new features already engineered)\n",
    "df = pd.read_pickle('data/w_eng_features.pkl')"
   ]
  },
  {
   "cell_type": "code",
   "execution_count": null,
   "metadata": {},
   "outputs": [],
   "source": [
    "# Check it out!\n",
    "df.head(50)"
   ]
  },
  {
   "cell_type": "markdown",
   "metadata": {},
   "source": [
    "#### Setting up for modeling:"
   ]
  },
  {
   "cell_type": "code",
   "execution_count": null,
   "metadata": {},
   "outputs": [],
   "source": [
    "X = df.loc[:,['air_quality', 'rel_humidity', 'avg_num_clear_days',\n",
    "                     'pct_area_water', 'rainfall_inches', 'temp_f',\n",
    "                     'highest_point_ft', 'mean_elevation_ft', 'HM__x__RF',\n",
    "                     'TM__x__RF', 'HP__x__ME', 'pct_area_water_bc', \n",
    "                      'mean_elevation_bc', 'hp_bc']]\n",
    "\n",
    "y = df['happiness_avg']\n",
    "\n",
    "# create overall quality squared term, which we expect to \n",
    "# help based on the relationship we see in the pair plot "
   ]
  },
  {
   "cell_type": "code",
   "execution_count": null,
   "metadata": {},
   "outputs": [],
   "source": [
    "X = df.loc[:,['mean_elevation_bc', 'air_quality', 'pct_area_water_bc', 'HM__x__RF', 'temp_f']]\n",
    "\n",
    "y = df['happiness_avg']\n",
    "\n",
    "# THIS IS A GOOD MIXTURE"
   ]
  },
  {
   "cell_type": "code",
   "execution_count": null,
   "metadata": {},
   "outputs": [],
   "source": [
    "X = df.loc[:,['mean_elevation_bc', 'air_quality', 'pct_area_water_bc', 'HM__x__RF']]\n",
    "\n",
    "y = df['happiness_avg']"
   ]
  },
  {
   "cell_type": "code",
   "execution_count": null,
   "metadata": {},
   "outputs": [],
   "source": [
    "## Split the data 80 - 20 train_val/test\n",
    "\n",
    "X_train_val, X_test, y_train_val, y_test = train_test_split(X, y, test_size=0.2)\n",
    "# X_train, X_val, y_train, y_val = train_test_split(X_train_val, y_train_val, test_size=.25, random_state=43)\n",
    "X_train_val.shape"
   ]
  },
  {
   "cell_type": "code",
   "execution_count": null,
   "metadata": {},
   "outputs": [],
   "source": [
    "## Scale the data\n",
    "std = StandardScaler()\n",
    "std.fit(X_train_val.values)"
   ]
  },
  {
   "cell_type": "code",
   "execution_count": null,
   "metadata": {},
   "outputs": [],
   "source": [
    "## Scale the Predictors on both the train and test set\n",
    "X_tr = std.transform(X_train_val.values)\n",
    "X_te = std.transform(X_test.values)"
   ]
  },
  {
   "cell_type": "code",
   "execution_count": null,
   "metadata": {},
   "outputs": [],
   "source": [
    "#Mean Absolute Error (MAE)\n",
    "def mae(y_true, y_pred):\n",
    "    return np.mean(np.abs(y_pred - y_true)) "
   ]
  },
  {
   "cell_type": "code",
   "execution_count": null,
   "metadata": {},
   "outputs": [],
   "source": [
    "#Mean Squared Error (MSE)\n",
    "def mse(y_true, y_pred):\n",
    "    return np.mean(np.square(y_pred - y_true)) "
   ]
  },
  {
   "cell_type": "code",
   "execution_count": null,
   "metadata": {},
   "outputs": [],
   "source": [
    "#Adjusted R-squared\n",
    "def get_adj_r2(r2, n, p):\n",
    "    return 1-(1-r2)*(n-1)/(n-1-p)"
   ]
  },
  {
   "cell_type": "code",
   "execution_count": null,
   "metadata": {},
   "outputs": [],
   "source": [
    "def make_resid_plot(actual, prediction):\n",
    "    resid = actual - prediction\n",
    "    with sns.axes_style('white'):\n",
    "        fig, ax = plt.subplots(figsize=(10,6))\n",
    "        stats.probplot(resid, dist=\"norm\", plot=plt)\n",
    "        plt.title(\"Normal Q-Q plot\")"
   ]
  },
  {
   "cell_type": "code",
   "execution_count": null,
   "metadata": {},
   "outputs": [],
   "source": []
  },
  {
   "cell_type": "markdown",
   "metadata": {},
   "source": [
    "## Run a LassoCV Model"
   ]
  },
  {
   "cell_type": "code",
   "execution_count": null,
   "metadata": {},
   "outputs": [],
   "source": [
    "# Run the cross validation, find the best alpha, refit the model on all the data with that alpha\n",
    "\n",
    "alphavec_l = np.logspace(-2,2,200)\n",
    "\n",
    "lasso_model = LassoCV(alphas = alphavec_l, cv=5)\n",
    "lasso_model.fit(X_tr, y_train_val)"
   ]
  },
  {
   "cell_type": "code",
   "execution_count": null,
   "metadata": {},
   "outputs": [],
   "source": [
    "# This is the best LASSO alpha value it found\n",
    "lasso_model.alpha_"
   ]
  },
  {
   "cell_type": "code",
   "execution_count": null,
   "metadata": {},
   "outputs": [],
   "source": [
    "list(zip(X_train_val.columns, lasso_model.coef_))"
   ]
  },
  {
   "cell_type": "code",
   "execution_count": null,
   "metadata": {},
   "outputs": [],
   "source": [
    "# Make predictions on the test set using the LASSO model\n",
    "test_set_pred_lasso = lasso_model.predict(X_te)\n",
    "train_val_set_pred_lasso = lasso_model.predict(X_tr)"
   ]
  },
  {
   "cell_type": "code",
   "execution_count": null,
   "metadata": {},
   "outputs": [],
   "source": [
    "shape(X_te)"
   ]
  },
  {
   "cell_type": "code",
   "execution_count": null,
   "metadata": {},
   "outputs": [],
   "source": [
    "# Find the MSE and R^2 on the test set using this LASSO model\n",
    "test_mse = mse(y_test, test_set_pred_lasso)\n",
    "print('test_rmse: ', np.sqrt(test_mse))"
   ]
  },
  {
   "cell_type": "code",
   "execution_count": null,
   "metadata": {},
   "outputs": [],
   "source": [
    "# Find r2 score for LASSO\n",
    "r2_lasso = r2_score(y_test, test_set_pred_lasso)\n",
    "r2_lasso"
   ]
  },
  {
   "cell_type": "code",
   "execution_count": null,
   "metadata": {},
   "outputs": [],
   "source": [
    "r2_lasso_in_sample = r2_score(y_train_val, train_val_set_pred_lasso)\n",
    "r2_lasso_in_sample"
   ]
  },
  {
   "cell_type": "code",
   "execution_count": null,
   "metadata": {},
   "outputs": [],
   "source": [
    "# Find adjusted r2 score for LASSO\n",
    "adj_r2_lasso = get_adj_r2(r2_lasso, X.shape[0], X.shape[1])\n",
    "adj_r2_lasso"
   ]
  },
  {
   "cell_type": "code",
   "execution_count": null,
   "metadata": {},
   "outputs": [],
   "source": [
    "plt.scatter(test_set_pred_lasso, y_test, alpha = 0.1)\n",
    "plt.scatter(y_train_val, train_val_set_pred_lasso, alpha = 0.5)\n",
    "plt.plot(np.linspace(50,65,1000), np.linspace(50,65,1000))"
   ]
  },
  {
   "cell_type": "code",
   "execution_count": null,
   "metadata": {},
   "outputs": [],
   "source": [
    "sns.set(font='sans-serif', font_scale=1.25, palette=\"bright\")"
   ]
  },
  {
   "cell_type": "code",
   "execution_count": null,
   "metadata": {},
   "outputs": [],
   "source": [
    "#Make a pretty seaborn plot:\n",
    "fig, ax = plt.subplots(figsize=(10,6))\n",
    "# sns.scatterplot(x=y_test, y=test_set_pred_lasso)\n",
    "sns.scatterplot(x=y_train_val, y=train_val_set_pred_lasso, marker = 'x')\n",
    "sns.scatterplot(x=y_train_val, y=train_val_set_pred_ridge)\n",
    "sns.lineplot(np.linspace(50,67,1000), np.linspace(50,67,1000), color='green')\n",
    "\n",
    "ax.legend(labels=[\"Perfect Prediction\", \"Lasso Prediction\", \"Ridge Prediction\"], loc = 4)\n",
    "ax.set(xlabel='True Happiness', ylabel='Predicted Happiness', title='Lasso vs. Ridge Regression')\n",
    "plt.savefig('data/lasso_v_ridge.png', dpi=100)\n",
    "plt.show()"
   ]
  },
  {
   "cell_type": "code",
   "execution_count": null,
   "metadata": {},
   "outputs": [],
   "source": [
    "# make_resid_plot(y_train_val, train_val_set_pred_lasso)"
   ]
  },
  {
   "cell_type": "markdown",
   "metadata": {},
   "source": [
    "## Run a RidgeCV Model"
   ]
  },
  {
   "cell_type": "code",
   "execution_count": null,
   "metadata": {},
   "outputs": [],
   "source": [
    "# Run the cross validation, find the best alpha, refit the model on all the data with that alpha\n",
    "\n",
    "# alphavec_r = 10**np.linspace(-2,0,400)\n",
    "alphavec_r = np.logspace(-2,2,200)\n",
    "# alpha = 57\n",
    "\n",
    "ridge_model = RidgeCV(alphas=alphavec_r, cv=4)\n",
    "ridge_model.fit(X_tr, y_train_val)"
   ]
  },
  {
   "cell_type": "code",
   "execution_count": null,
   "metadata": {},
   "outputs": [],
   "source": [
    "# This is the best RIDGE alpha value found\n",
    "ridge_model.alpha_"
   ]
  },
  {
   "cell_type": "code",
   "execution_count": null,
   "metadata": {},
   "outputs": [],
   "source": [
    "# These are the (standardized) coefficients found\n",
    "# when it refit using that best alpha\n",
    "list(zip(X_train_val.columns, ridge_model.coef_))"
   ]
  },
  {
   "cell_type": "code",
   "execution_count": null,
   "metadata": {},
   "outputs": [],
   "source": [
    "# Make predictions on the test set using the RIDGE model\n",
    "test_set_pred_ridge = ridge_model.predict(X_te)\n",
    "train_val_set_pred_ridge = ridge_model.predict(X_tr)"
   ]
  },
  {
   "cell_type": "code",
   "execution_count": null,
   "metadata": {},
   "outputs": [],
   "source": [
    "# Find the MSE and R^2 on the test set using this RIDGE model\n",
    "# use mean squared error\n",
    "test_mse = mse(y_test, test_set_pred_ridge)\n",
    "train_val_mse = mse(y_train_val, train_val_set_pred_ridge)\n",
    "print('test_rmse: ', np.sqrt(test_mse))\n",
    "print('train_val_rmse: ', np.sqrt(train_val_mse))\n",
    "print('total_mse: ', np.sqrt(test_mse)+np.sqrt(train_val_mse))"
   ]
  },
  {
   "cell_type": "code",
   "execution_count": null,
   "metadata": {},
   "outputs": [],
   "source": [
    "# Find r2 score for RIDGE\n",
    "r2_ridge = r2_score(y_test, test_set_pred_ridge)\n",
    "r2_ridge"
   ]
  },
  {
   "cell_type": "code",
   "execution_count": null,
   "metadata": {},
   "outputs": [],
   "source": [
    "# THIS IS THE MONEY\n",
    "r2_ridge_in_sample = r2_score(y_train_val, train_val_set_pred_ridge)\n",
    "r2_ridge_in_sample"
   ]
  },
  {
   "cell_type": "code",
   "execution_count": null,
   "metadata": {},
   "outputs": [],
   "source": [
    "# Find adjusted r2 score for LASSO\n",
    "adj_r2_ridge = get_adj_r2(r2_ridge, X.shape[0], X.shape[1])\n",
    "adj_r2_ridge"
   ]
  },
  {
   "cell_type": "code",
   "execution_count": null,
   "metadata": {},
   "outputs": [],
   "source": [
    "plt.scatter(y_test, test_set_pred_ridge, alpha = 0.1)\n",
    "plt.scatter(y_train_val, train_val_set_pred_ridge, alpha = 0.5)\n",
    "plt.plot(np.linspace(50,65,1000), np.linspace(50,65,1000))"
   ]
  },
  {
   "cell_type": "code",
   "execution_count": null,
   "metadata": {},
   "outputs": [],
   "source": [
    "fig, ax = plt.subplots(figsize=(10,6))\n",
    "sns.scatterplot(x=y_test, y=test_set_pred_ridge)\n",
    "sns.scatterplot(x=y_train_val, y=train_val_set_pred_ridge)\n",
    "sns.lineplot(np.linspace(50,65,1000), np.linspace(50,65,1000))\n",
    "\n",
    "ax.legend(labels=[\"Perfect Prediction\",\"Test Points\",\"Train/Validation Points\"], loc = 4)\n",
    "ax.set(xlabel='True Happiness', ylabel='Predicted Happiness', title='Ridge Regression')\n",
    "plt.show()"
   ]
  },
  {
   "cell_type": "code",
   "execution_count": null,
   "metadata": {},
   "outputs": [],
   "source": [
    "#Pickle the model\n",
    "pickle.dump(ridge_model, 'data/model_1')"
   ]
  },
  {
   "cell_type": "code",
   "execution_count": null,
   "metadata": {},
   "outputs": [],
   "source": [
    "# make_resid_plot(y_train_val, train_val_set_pred_ridge)"
   ]
  },
  {
   "cell_type": "markdown",
   "metadata": {},
   "source": [
    "# RidgeCV is being weird. Let's try GridSearch instead"
   ]
  },
  {
   "cell_type": "code",
   "execution_count": null,
   "metadata": {},
   "outputs": [],
   "source": [
    "# Grid Search for Algorithm Tuning\n",
    "\n",
    "# Use the same list of alphas as I did for RidgeCV (alphavec_r)\n",
    "\n",
    "# create and fit a ridge regression model, testing each alpha\n",
    "model = Ridge()\n",
    "grid = GridSearchCV(estimator=model, param_grid=dict(alpha=alphavec_r))\n",
    "grid.fit(X_tr, y_train_val)\n",
    "print(grid)\n",
    "# summarize the results of the grid search\n",
    "print(grid.best_score_)\n",
    "print(grid.best_estimator_.alpha)"
   ]
  },
  {
   "cell_type": "markdown",
   "metadata": {},
   "source": [
    "# OLS in scikit-learn"
   ]
  },
  {
   "cell_type": "code",
   "execution_count": null,
   "metadata": {},
   "outputs": [],
   "source": [
    "# Run the cross validation, find the best alpha, refit the model on all the data with that alpha\n",
    "ols_model = LinearRegression()\n",
    "ols_model.fit(X_tr, y_train_val)"
   ]
  },
  {
   "cell_type": "code",
   "execution_count": null,
   "metadata": {},
   "outputs": [],
   "source": [
    "list(zip(X_train_val.columns, ols_model.coef_))"
   ]
  },
  {
   "cell_type": "code",
   "execution_count": null,
   "metadata": {},
   "outputs": [],
   "source": [
    "# Make predictions on the test set using the ols model\n",
    "test_set_pred_ols = ols_model.predict(X_te)\n",
    "train_val_set_pred_ols = ols_model.predict(X_tr)"
   ]
  },
  {
   "cell_type": "code",
   "execution_count": null,
   "metadata": {},
   "outputs": [],
   "source": [
    "# Find the RMSE and R^2 on the test set using this ols model\n",
    "test_mse = mse(y_test, test_set_pred_ols)\n",
    "print('OLS Model test_rmse: ', np.sqrt(test_mse))"
   ]
  },
  {
   "cell_type": "code",
   "execution_count": null,
   "metadata": {},
   "outputs": [],
   "source": [
    "#Make a pretty seaborn plot:\n",
    "fig, ax = plt.subplots(figsize=(10,6))\n",
    "# sns.scatterplot(x=y_test, y=test_set_pred_lasso)\n",
    "sns.scatterplot(x=y_train_val, y=train_val_set_pred_lasso, marker = 'x')\n",
    "sns.scatterplot(x=y_train_val, y=train_val_set_pred_ridge)\n",
    "# sns.scatterplot(x=y_train_val, y=train_val_set_pred_ols, marker = '+')\n",
    "sns.lineplot(np.linspace(50,67,1000), np.linspace(50,67,1000), color='green')\n",
    "\n",
    "ax.legend(labels=[\"Perfect Prediction\", \"Lasso Prediction\", \"Ridge Prediction\"], loc = 4)\n",
    "ax.set(xlabel='True Happiness', ylabel='Predicted Happiness', title='Lasso vs. Ridge Regression')\n",
    "plt.savefig('data/lasso_v_ridge.png', dpi=100)\n",
    "plt.show()"
   ]
  },
  {
   "cell_type": "code",
   "execution_count": null,
   "metadata": {},
   "outputs": [],
   "source": [
    "# resid_lasso = y_train_val - train_val_set_pred_lasso\n",
    "# resid_ridge = y_train_val - train_val_set_pred_ridge\n",
    "# resid_ols = y_train_val - train_val_set_pred_ols\n",
    "\n",
    "# with sns.axes_style('white'):\n",
    "#         fig, ax = plt.subplots(figsize=(10,6))\n",
    "#         stats.probplot(resid_ols, dist=\"norm\", plot=plt, marker='x')\n",
    "#         stats.probplot(resid_lasso, dist=\"norm\", plot=plt)\n",
    "#         stats.probplot(resid_ridge, dist=\"norm\", plot=plt)\n",
    "#         plt.title(\"Normal Q-Q plot\")\n",
    "#         plt.show() "
   ]
  },
  {
   "cell_type": "code",
   "execution_count": null,
   "metadata": {},
   "outputs": [],
   "source": []
  }
 ],
 "metadata": {
  "kernelspec": {
   "display_name": "Python 3",
   "language": "python",
   "name": "python3"
  },
  "language_info": {
   "codemirror_mode": {
    "name": "ipython",
    "version": 3
   },
   "file_extension": ".py",
   "mimetype": "text/x-python",
   "name": "python",
   "nbconvert_exporter": "python",
   "pygments_lexer": "ipython3",
   "version": "3.7.2"
  }
 },
 "nbformat": 4,
 "nbformat_minor": 2
}
