{
 "cells": [
  {
   "cell_type": "markdown",
   "metadata": {},
   "source": [
    "Potentially Useful Sources:"
   ]
  },
  {
   "cell_type": "markdown",
   "metadata": {},
   "source": [
    "Features:\n",
    "\n",
    "Weather: \n",
    "Average annual Inches of rainfall - https://www.currentresults.com/Weather/US/average-annual-state-precipitation.php\n",
    "Average annual temperature - https://www.currentresults.com/Weather/US/average-annual-state-temperatures.php\n",
    "Average annual relative humidity - https://www.currentresults.com/Weather/US/annual-average-humidity-by-state.php\n",
    "Average number of clear days per year - https://www.currentresults.com/Weather/US/average-annual-state-sunshine.php\n",
    "Air quality - http://www.usa.com/rank/us--air-quality-index--state-rank.htm \n",
    "    (maybe this too: https://www.americashealthrankings.org/explore/annual/measure/air/state/ALL)\n",
    "\n",
    "Topography:\n",
    "Highest point/Mean elevation - https://en.wikipedia.org/wiki/List_of_U.S._states_and_territories_by_elevation\n",
    "Percentage water - https://water.usgs.gov/edu/wetstates.html\n",
    "\n",
    "Population: \n",
    "Population density -"
   ]
  },
  {
   "cell_type": "markdown",
   "metadata": {},
   "source": [
    "Target (Happiness):\n",
    "- https://wallethub.com/edu/happiest-states/6959/#methodology\n",
    "- https://www.livescience.com/61744-happiest-states-2017-full-list.html\n",
    "- https://www.livescience.com/57716-happiest-states-2016-full-list.html\n",
    "    \n",
    "    \n"
   ]
  }
 ],
 "metadata": {
  "kernelspec": {
   "display_name": "Python 3",
   "language": "python",
   "name": "python3"
  },
  "language_info": {
   "codemirror_mode": {
    "name": "ipython",
    "version": 3
   },
   "file_extension": ".py",
   "mimetype": "text/x-python",
   "name": "python",
   "nbconvert_exporter": "python",
   "pygments_lexer": "ipython3",
   "version": "3.7.2"
  }
 },
 "nbformat": 4,
 "nbformat_minor": 2
}
