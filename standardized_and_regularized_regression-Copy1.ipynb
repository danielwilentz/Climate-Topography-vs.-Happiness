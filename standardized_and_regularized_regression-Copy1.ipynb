{
 "cells": [
  {
   "cell_type": "code",
   "execution_count": 1113,
   "metadata": {},
   "outputs": [
    {
     "name": "stdout",
     "output_type": "stream",
     "text": [
      "Populating the interactive namespace from numpy and matplotlib\n"
     ]
    }
   ],
   "source": [
    "# Necessary imports\n",
    "import pandas as pd\n",
    "import numpy as np\n",
    "import statsmodels.api as sm\n",
    "import statsmodels.formula.api as smf\n",
    "import patsy\n",
    "import scipy.stats as stats\n",
    "\n",
    "import seaborn as sns\n",
    "import matplotlib.pyplot as plt\n",
    "from sklearn.linear_model import LinearRegression, Lasso, LassoCV, Ridge, RidgeCV\n",
    "from sklearn.metrics import r2_score\n",
    "from sklearn.model_selection import train_test_split, GridSearchCV\n",
    "from sklearn.pipeline import Pipeline\n",
    "from sklearn.preprocessing import StandardScaler\n",
    "import pickle\n",
    "\n",
    "# get rid of warnings\n",
    "import warnings\n",
    "warnings.filterwarnings('ignore')\n",
    "\n",
    "%matplotlib inline\n",
    "%pylab inline"
   ]
  },
  {
   "cell_type": "code",
   "execution_count": 1112,
   "metadata": {},
   "outputs": [],
   "source": [
    "# Load the data file (with new features already engineered)\n",
    "df = pd.read_pickle('data/w_eng_features.pkl')"
   ]
  },
  {
   "cell_type": "code",
   "execution_count": 228,
   "metadata": {},
   "outputs": [
    {
     "data": {
      "text/html": [
       "<div>\n",
       "<style scoped>\n",
       "    .dataframe tbody tr th:only-of-type {\n",
       "        vertical-align: middle;\n",
       "    }\n",
       "\n",
       "    .dataframe tbody tr th {\n",
       "        vertical-align: top;\n",
       "    }\n",
       "\n",
       "    .dataframe thead th {\n",
       "        text-align: right;\n",
       "    }\n",
       "</style>\n",
       "<table border=\"1\" class=\"dataframe\">\n",
       "  <thead>\n",
       "    <tr style=\"text-align: right;\">\n",
       "      <th></th>\n",
       "      <th>air_quality</th>\n",
       "      <th>rel_humidity</th>\n",
       "      <th>avg_num_clear_days</th>\n",
       "      <th>pct_area_water</th>\n",
       "      <th>rainfall_inches</th>\n",
       "      <th>temp_f</th>\n",
       "      <th>highest_point_ft</th>\n",
       "      <th>mean_elevation_ft</th>\n",
       "      <th>happiness_avg</th>\n",
       "      <th>HM__x__RF</th>\n",
       "      <th>TM__x__RF</th>\n",
       "      <th>HP__x__ME</th>\n",
       "      <th>pct_area_water_bc</th>\n",
       "      <th>mean_elevation_bc</th>\n",
       "      <th>hp_bc</th>\n",
       "      <th>feature_eng_predict</th>\n",
       "      <th>feature_eng_resid</th>\n",
       "    </tr>\n",
       "  </thead>\n",
       "  <tbody>\n",
       "    <tr>\n",
       "      <th>Alabama</th>\n",
       "      <td>46.6</td>\n",
       "      <td>52.0</td>\n",
       "      <td>99.0</td>\n",
       "      <td>3.4</td>\n",
       "      <td>58.3</td>\n",
       "      <td>62.8</td>\n",
       "      <td>2413.0</td>\n",
       "      <td>500.0</td>\n",
       "      <td>53.72</td>\n",
       "      <td>3031.6</td>\n",
       "      <td>3661.24</td>\n",
       "      <td>1206500.0</td>\n",
       "      <td>1.045041</td>\n",
       "      <td>9.396474</td>\n",
       "      <td>19.679026</td>\n",
       "      <td>46.485074</td>\n",
       "      <td>7.234926</td>\n",
       "    </tr>\n",
       "    <tr>\n",
       "      <th>Alaska</th>\n",
       "      <td>29.1</td>\n",
       "      <td>64.0</td>\n",
       "      <td>61.0</td>\n",
       "      <td>14.2</td>\n",
       "      <td>22.5</td>\n",
       "      <td>26.6</td>\n",
       "      <td>20310.0</td>\n",
       "      <td>1900.0</td>\n",
       "      <td>54.60</td>\n",
       "      <td>1440.0</td>\n",
       "      <td>598.50</td>\n",
       "      <td>38589000.0</td>\n",
       "      <td>1.100227</td>\n",
       "      <td>12.555791</td>\n",
       "      <td>33.467698</td>\n",
       "      <td>29.296699</td>\n",
       "      <td>25.303301</td>\n",
       "    </tr>\n",
       "    <tr>\n",
       "      <th>Arizona</th>\n",
       "      <td>45.4</td>\n",
       "      <td>25.0</td>\n",
       "      <td>193.0</td>\n",
       "      <td>0.3</td>\n",
       "      <td>13.6</td>\n",
       "      <td>60.3</td>\n",
       "      <td>12637.0</td>\n",
       "      <td>4100.0</td>\n",
       "      <td>59.51</td>\n",
       "      <td>340.0</td>\n",
       "      <td>820.08</td>\n",
       "      <td>51811700.0</td>\n",
       "      <td>0.957583</td>\n",
       "      <td>14.630178</td>\n",
       "      <td>29.842066</td>\n",
       "      <td>44.042415</td>\n",
       "      <td>15.467585</td>\n",
       "    </tr>\n",
       "    <tr>\n",
       "      <th>Arkansas</th>\n",
       "      <td>43.1</td>\n",
       "      <td>49.0</td>\n",
       "      <td>123.0</td>\n",
       "      <td>2.1</td>\n",
       "      <td>50.6</td>\n",
       "      <td>60.4</td>\n",
       "      <td>2753.0</td>\n",
       "      <td>650.0</td>\n",
       "      <td>52.27</td>\n",
       "      <td>2479.4</td>\n",
       "      <td>3056.24</td>\n",
       "      <td>1789450.0</td>\n",
       "      <td>1.027070</td>\n",
       "      <td>9.976459</td>\n",
       "      <td>20.365059</td>\n",
       "      <td>49.188495</td>\n",
       "      <td>3.081505</td>\n",
       "    </tr>\n",
       "    <tr>\n",
       "      <th>California</th>\n",
       "      <td>46.0</td>\n",
       "      <td>62.0</td>\n",
       "      <td>146.0</td>\n",
       "      <td>4.8</td>\n",
       "      <td>22.2</td>\n",
       "      <td>59.4</td>\n",
       "      <td>14505.0</td>\n",
       "      <td>2900.0</td>\n",
       "      <td>62.81</td>\n",
       "      <td>1376.4</td>\n",
       "      <td>1318.68</td>\n",
       "      <td>42064500.0</td>\n",
       "      <td>1.058095</td>\n",
       "      <td>13.671538</td>\n",
       "      <td>30.858547</td>\n",
       "      <td>39.990597</td>\n",
       "      <td>22.819403</td>\n",
       "    </tr>\n",
       "    <tr>\n",
       "      <th>Colorado</th>\n",
       "      <td>47.1</td>\n",
       "      <td>35.0</td>\n",
       "      <td>136.0</td>\n",
       "      <td>0.4</td>\n",
       "      <td>15.9</td>\n",
       "      <td>45.1</td>\n",
       "      <td>14440.0</td>\n",
       "      <td>6800.0</td>\n",
       "      <td>60.59</td>\n",
       "      <td>556.5</td>\n",
       "      <td>717.09</td>\n",
       "      <td>98192000.0</td>\n",
       "      <td>0.967552</td>\n",
       "      <td>16.107579</td>\n",
       "      <td>30.824967</td>\n",
       "      <td>40.816312</td>\n",
       "      <td>19.773688</td>\n",
       "    </tr>\n",
       "    <tr>\n",
       "      <th>Connecticut</th>\n",
       "      <td>45.0</td>\n",
       "      <td>52.0</td>\n",
       "      <td>82.0</td>\n",
       "      <td>12.6</td>\n",
       "      <td>50.3</td>\n",
       "      <td>49.0</td>\n",
       "      <td>2379.0</td>\n",
       "      <td>500.0</td>\n",
       "      <td>60.55</td>\n",
       "      <td>2615.6</td>\n",
       "      <td>2464.70</td>\n",
       "      <td>1189500.0</td>\n",
       "      <td>1.095502</td>\n",
       "      <td>9.396474</td>\n",
       "      <td>19.606300</td>\n",
       "      <td>42.185590</td>\n",
       "      <td>18.364410</td>\n",
       "    </tr>\n",
       "    <tr>\n",
       "      <th>Delaware</th>\n",
       "      <td>46.4</td>\n",
       "      <td>54.0</td>\n",
       "      <td>97.0</td>\n",
       "      <td>21.7</td>\n",
       "      <td>45.7</td>\n",
       "      <td>55.3</td>\n",
       "      <td>447.0</td>\n",
       "      <td>60.0</td>\n",
       "      <td>57.92</td>\n",
       "      <td>2467.8</td>\n",
       "      <td>2527.21</td>\n",
       "      <td>26820.0</td>\n",
       "      <td>1.117153</td>\n",
       "      <td>5.346239</td>\n",
       "      <td>12.391301</td>\n",
       "      <td>37.560522</td>\n",
       "      <td>20.359478</td>\n",
       "    </tr>\n",
       "    <tr>\n",
       "      <th>Florida</th>\n",
       "      <td>38.9</td>\n",
       "      <td>57.0</td>\n",
       "      <td>101.0</td>\n",
       "      <td>18.5</td>\n",
       "      <td>54.5</td>\n",
       "      <td>70.7</td>\n",
       "      <td>345.0</td>\n",
       "      <td>100.0</td>\n",
       "      <td>58.84</td>\n",
       "      <td>3106.5</td>\n",
       "      <td>3853.15</td>\n",
       "      <td>34500.0</td>\n",
       "      <td>1.110755</td>\n",
       "      <td>6.226235</td>\n",
       "      <td>11.483207</td>\n",
       "      <td>39.889526</td>\n",
       "      <td>18.950474</td>\n",
       "    </tr>\n",
       "    <tr>\n",
       "      <th>Georgia</th>\n",
       "      <td>48.2</td>\n",
       "      <td>50.0</td>\n",
       "      <td>112.0</td>\n",
       "      <td>3.2</td>\n",
       "      <td>50.7</td>\n",
       "      <td>63.5</td>\n",
       "      <td>4784.0</td>\n",
       "      <td>600.0</td>\n",
       "      <td>59.58</td>\n",
       "      <td>2535.0</td>\n",
       "      <td>3219.45</td>\n",
       "      <td>2870400.0</td>\n",
       "      <td>1.042762</td>\n",
       "      <td>9.797496</td>\n",
       "      <td>23.456785</td>\n",
       "      <td>45.848097</td>\n",
       "      <td>13.731903</td>\n",
       "    </tr>\n",
       "    <tr>\n",
       "      <th>Hawaii</th>\n",
       "      <td>21.2</td>\n",
       "      <td>56.0</td>\n",
       "      <td>90.0</td>\n",
       "      <td>41.2</td>\n",
       "      <td>63.7</td>\n",
       "      <td>70.0</td>\n",
       "      <td>13803.0</td>\n",
       "      <td>3030.0</td>\n",
       "      <td>65.62</td>\n",
       "      <td>3567.2</td>\n",
       "      <td>4459.00</td>\n",
       "      <td>41823090.0</td>\n",
       "      <td>1.143237</td>\n",
       "      <td>13.790657</td>\n",
       "      <td>30.489395</td>\n",
       "      <td>20.824392</td>\n",
       "      <td>44.795608</td>\n",
       "    </tr>\n",
       "    <tr>\n",
       "      <th>Idaho</th>\n",
       "      <td>44.3</td>\n",
       "      <td>41.0</td>\n",
       "      <td>120.0</td>\n",
       "      <td>1.1</td>\n",
       "      <td>18.9</td>\n",
       "      <td>44.4</td>\n",
       "      <td>12668.0</td>\n",
       "      <td>5000.0</td>\n",
       "      <td>62.86</td>\n",
       "      <td>774.9</td>\n",
       "      <td>839.16</td>\n",
       "      <td>63340000.0</td>\n",
       "      <td>1.003437</td>\n",
       "      <td>15.198571</td>\n",
       "      <td>29.859876</td>\n",
       "      <td>42.658598</td>\n",
       "      <td>20.201402</td>\n",
       "    </tr>\n",
       "    <tr>\n",
       "      <th>Illinois</th>\n",
       "      <td>43.6</td>\n",
       "      <td>58.0</td>\n",
       "      <td>95.0</td>\n",
       "      <td>4.1</td>\n",
       "      <td>39.2</td>\n",
       "      <td>51.8</td>\n",
       "      <td>1235.0</td>\n",
       "      <td>600.0</td>\n",
       "      <td>58.39</td>\n",
       "      <td>2273.6</td>\n",
       "      <td>2030.56</td>\n",
       "      <td>741000.0</td>\n",
       "      <td>1.052108</td>\n",
       "      <td>9.797496</td>\n",
       "      <td>16.472044</td>\n",
       "      <td>47.908001</td>\n",
       "      <td>10.481999</td>\n",
       "    </tr>\n",
       "    <tr>\n",
       "      <th>Indiana</th>\n",
       "      <td>47.5</td>\n",
       "      <td>58.0</td>\n",
       "      <td>88.0</td>\n",
       "      <td>1.6</td>\n",
       "      <td>41.7</td>\n",
       "      <td>51.7</td>\n",
       "      <td>1257.0</td>\n",
       "      <td>700.0</td>\n",
       "      <td>57.03</td>\n",
       "      <td>2418.6</td>\n",
       "      <td>2155.89</td>\n",
       "      <td>879900.0</td>\n",
       "      <td>1.017064</td>\n",
       "      <td>10.143758</td>\n",
       "      <td>16.550925</td>\n",
       "      <td>48.031082</td>\n",
       "      <td>8.998918</td>\n",
       "    </tr>\n",
       "    <tr>\n",
       "      <th>Iowa</th>\n",
       "      <td>37.6</td>\n",
       "      <td>56.0</td>\n",
       "      <td>105.0</td>\n",
       "      <td>0.7</td>\n",
       "      <td>34.0</td>\n",
       "      <td>47.8</td>\n",
       "      <td>1671.0</td>\n",
       "      <td>1100.0</td>\n",
       "      <td>61.79</td>\n",
       "      <td>1904.0</td>\n",
       "      <td>1625.20</td>\n",
       "      <td>1838100.0</td>\n",
       "      <td>0.987242</td>\n",
       "      <td>11.198357</td>\n",
       "      <td>17.863990</td>\n",
       "      <td>51.266940</td>\n",
       "      <td>10.523060</td>\n",
       "    </tr>\n",
       "    <tr>\n",
       "      <th>Kansas</th>\n",
       "      <td>42.8</td>\n",
       "      <td>50.0</td>\n",
       "      <td>128.0</td>\n",
       "      <td>0.6</td>\n",
       "      <td>28.9</td>\n",
       "      <td>54.3</td>\n",
       "      <td>4041.0</td>\n",
       "      <td>2000.0</td>\n",
       "      <td>58.43</td>\n",
       "      <td>1445.0</td>\n",
       "      <td>1569.27</td>\n",
       "      <td>8082000.0</td>\n",
       "      <td>0.981778</td>\n",
       "      <td>12.688011</td>\n",
       "      <td>22.474098</td>\n",
       "      <td>50.368797</td>\n",
       "      <td>8.061203</td>\n",
       "    </tr>\n",
       "    <tr>\n",
       "      <th>Kentucky</th>\n",
       "      <td>46.1</td>\n",
       "      <td>55.0</td>\n",
       "      <td>93.0</td>\n",
       "      <td>2.3</td>\n",
       "      <td>48.9</td>\n",
       "      <td>55.6</td>\n",
       "      <td>4145.0</td>\n",
       "      <td>750.0</td>\n",
       "      <td>53.24</td>\n",
       "      <td>2689.5</td>\n",
       "      <td>2718.84</td>\n",
       "      <td>3108750.0</td>\n",
       "      <td>1.030439</td>\n",
       "      <td>10.300908</td>\n",
       "      <td>22.619824</td>\n",
       "      <td>45.933841</td>\n",
       "      <td>7.306159</td>\n",
       "    </tr>\n",
       "    <tr>\n",
       "      <th>Louisiana</th>\n",
       "      <td>40.4</td>\n",
       "      <td>61.0</td>\n",
       "      <td>101.0</td>\n",
       "      <td>17.5</td>\n",
       "      <td>60.1</td>\n",
       "      <td>66.4</td>\n",
       "      <td>535.0</td>\n",
       "      <td>100.0</td>\n",
       "      <td>52.35</td>\n",
       "      <td>3666.1</td>\n",
       "      <td>3990.64</td>\n",
       "      <td>53500.0</td>\n",
       "      <td>1.108535</td>\n",
       "      <td>6.226235</td>\n",
       "      <td>13.051010</td>\n",
       "      <td>37.757512</td>\n",
       "      <td>14.592488</td>\n",
       "    </tr>\n",
       "    <tr>\n",
       "      <th>Maine</th>\n",
       "      <td>36.5</td>\n",
       "      <td>61.0</td>\n",
       "      <td>101.0</td>\n",
       "      <td>12.8</td>\n",
       "      <td>42.2</td>\n",
       "      <td>41.0</td>\n",
       "      <td>5270.0</td>\n",
       "      <td>600.0</td>\n",
       "      <td>58.34</td>\n",
       "      <td>2574.2</td>\n",
       "      <td>1730.20</td>\n",
       "      <td>3162000.0</td>\n",
       "      <td>1.096124</td>\n",
       "      <td>9.797496</td>\n",
       "      <td>24.036003</td>\n",
       "      <td>40.107959</td>\n",
       "      <td>18.232041</td>\n",
       "    </tr>\n",
       "    <tr>\n",
       "      <th>Maryland</th>\n",
       "      <td>47.0</td>\n",
       "      <td>52.0</td>\n",
       "      <td>105.0</td>\n",
       "      <td>21.8</td>\n",
       "      <td>44.5</td>\n",
       "      <td>54.2</td>\n",
       "      <td>3360.0</td>\n",
       "      <td>350.0</td>\n",
       "      <td>61.69</td>\n",
       "      <td>2314.0</td>\n",
       "      <td>2411.90</td>\n",
       "      <td>1176000.0</td>\n",
       "      <td>1.117338</td>\n",
       "      <td>8.637899</td>\n",
       "      <td>21.438738</td>\n",
       "      <td>36.575151</td>\n",
       "      <td>25.114849</td>\n",
       "    </tr>\n",
       "    <tr>\n",
       "      <th>Massachusetts</th>\n",
       "      <td>41.4</td>\n",
       "      <td>59.0</td>\n",
       "      <td>98.0</td>\n",
       "      <td>26.1</td>\n",
       "      <td>47.7</td>\n",
       "      <td>47.9</td>\n",
       "      <td>3489.0</td>\n",
       "      <td>500.0</td>\n",
       "      <td>60.78</td>\n",
       "      <td>2814.3</td>\n",
       "      <td>2284.83</td>\n",
       "      <td>1744500.0</td>\n",
       "      <td>1.124603</td>\n",
       "      <td>9.396474</td>\n",
       "      <td>21.646849</td>\n",
       "      <td>33.253318</td>\n",
       "      <td>27.526682</td>\n",
       "    </tr>\n",
       "    <tr>\n",
       "      <th>Michigan</th>\n",
       "      <td>42.5</td>\n",
       "      <td>61.0</td>\n",
       "      <td>71.0</td>\n",
       "      <td>41.5</td>\n",
       "      <td>32.8</td>\n",
       "      <td>44.4</td>\n",
       "      <td>1979.0</td>\n",
       "      <td>900.0</td>\n",
       "      <td>57.41</td>\n",
       "      <td>2000.8</td>\n",
       "      <td>1456.32</td>\n",
       "      <td>1781100.0</td>\n",
       "      <td>1.143536</td>\n",
       "      <td>10.722779</td>\n",
       "      <td>18.682236</td>\n",
       "      <td>27.148245</td>\n",
       "      <td>30.261755</td>\n",
       "    </tr>\n",
       "    <tr>\n",
       "      <th>Minnesota</th>\n",
       "      <td>38.3</td>\n",
       "      <td>55.0</td>\n",
       "      <td>95.0</td>\n",
       "      <td>8.4</td>\n",
       "      <td>27.3</td>\n",
       "      <td>41.2</td>\n",
       "      <td>2302.0</td>\n",
       "      <td>1200.0</td>\n",
       "      <td>64.52</td>\n",
       "      <td>1501.5</td>\n",
       "      <td>1124.76</td>\n",
       "      <td>2762400.0</td>\n",
       "      <td>1.079628</td>\n",
       "      <td>11.408307</td>\n",
       "      <td>19.438511</td>\n",
       "      <td>46.910390</td>\n",
       "      <td>17.609610</td>\n",
       "    </tr>\n",
       "    <tr>\n",
       "      <th>Mississippi</th>\n",
       "      <td>43.7</td>\n",
       "      <td>54.0</td>\n",
       "      <td>111.0</td>\n",
       "      <td>3.1</td>\n",
       "      <td>59.0</td>\n",
       "      <td>63.4</td>\n",
       "      <td>807.0</td>\n",
       "      <td>300.0</td>\n",
       "      <td>54.18</td>\n",
       "      <td>3186.0</td>\n",
       "      <td>3740.60</td>\n",
       "      <td>242100.0</td>\n",
       "      <td>1.041571</td>\n",
       "      <td>8.320375</td>\n",
       "      <td>14.656974</td>\n",
       "      <td>47.394368</td>\n",
       "      <td>6.785632</td>\n",
       "    </tr>\n",
       "    <tr>\n",
       "      <th>Missouri</th>\n",
       "      <td>44.0</td>\n",
       "      <td>53.0</td>\n",
       "      <td>115.0</td>\n",
       "      <td>1.4</td>\n",
       "      <td>42.2</td>\n",
       "      <td>54.5</td>\n",
       "      <td>1772.0</td>\n",
       "      <td>800.0</td>\n",
       "      <td>55.05</td>\n",
       "      <td>2236.6</td>\n",
       "      <td>2299.90</td>\n",
       "      <td>1417600.0</td>\n",
       "      <td>1.012187</td>\n",
       "      <td>10.449145</td>\n",
       "      <td>18.144561</td>\n",
       "      <td>49.626028</td>\n",
       "      <td>5.423972</td>\n",
       "    </tr>\n",
       "    <tr>\n",
       "      <th>Montana</th>\n",
       "      <td>39.6</td>\n",
       "      <td>45.0</td>\n",
       "      <td>82.0</td>\n",
       "      <td>1.0</td>\n",
       "      <td>15.3</td>\n",
       "      <td>42.7</td>\n",
       "      <td>12807.0</td>\n",
       "      <td>3400.0</td>\n",
       "      <td>59.03</td>\n",
       "      <td>688.5</td>\n",
       "      <td>653.31</td>\n",
       "      <td>43543800.0</td>\n",
       "      <td>1.000000</td>\n",
       "      <td>14.106748</td>\n",
       "      <td>29.939309</td>\n",
       "      <td>43.140449</td>\n",
       "      <td>15.889551</td>\n",
       "    </tr>\n",
       "    <tr>\n",
       "      <th>Nebraska</th>\n",
       "      <td>37.0</td>\n",
       "      <td>53.0</td>\n",
       "      <td>117.0</td>\n",
       "      <td>0.7</td>\n",
       "      <td>23.6</td>\n",
       "      <td>48.8</td>\n",
       "      <td>5427.0</td>\n",
       "      <td>2600.0</td>\n",
       "      <td>61.37</td>\n",
       "      <td>1250.8</td>\n",
       "      <td>1151.68</td>\n",
       "      <td>14110200.0</td>\n",
       "      <td>0.987242</td>\n",
       "      <td>13.377733</td>\n",
       "      <td>24.214084</td>\n",
       "      <td>50.213225</td>\n",
       "      <td>11.156775</td>\n",
       "    </tr>\n",
       "    <tr>\n",
       "      <th>Nevada</th>\n",
       "      <td>42.1</td>\n",
       "      <td>32.0</td>\n",
       "      <td>158.0</td>\n",
       "      <td>0.7</td>\n",
       "      <td>9.5</td>\n",
       "      <td>49.9</td>\n",
       "      <td>13147.0</td>\n",
       "      <td>5500.0</td>\n",
       "      <td>57.93</td>\n",
       "      <td>304.0</td>\n",
       "      <td>474.05</td>\n",
       "      <td>72308500.0</td>\n",
       "      <td>0.987242</td>\n",
       "      <td>15.476607</td>\n",
       "      <td>30.130773</td>\n",
       "      <td>42.852107</td>\n",
       "      <td>15.077893</td>\n",
       "    </tr>\n",
       "    <tr>\n",
       "      <th>New Hampshire</th>\n",
       "      <td>38.9</td>\n",
       "      <td>53.0</td>\n",
       "      <td>90.0</td>\n",
       "      <td>4.2</td>\n",
       "      <td>43.4</td>\n",
       "      <td>43.8</td>\n",
       "      <td>6288.0</td>\n",
       "      <td>1000.0</td>\n",
       "      <td>59.26</td>\n",
       "      <td>2300.2</td>\n",
       "      <td>1900.92</td>\n",
       "      <td>6288000.0</td>\n",
       "      <td>1.053021</td>\n",
       "      <td>10.970990</td>\n",
       "      <td>25.124133</td>\n",
       "      <td>45.166858</td>\n",
       "      <td>14.093142</td>\n",
       "    </tr>\n",
       "    <tr>\n",
       "      <th>New Jersey</th>\n",
       "      <td>44.1</td>\n",
       "      <td>59.0</td>\n",
       "      <td>94.0</td>\n",
       "      <td>15.7</td>\n",
       "      <td>47.1</td>\n",
       "      <td>52.7</td>\n",
       "      <td>1803.0</td>\n",
       "      <td>250.0</td>\n",
       "      <td>60.70</td>\n",
       "      <td>2778.9</td>\n",
       "      <td>2482.17</td>\n",
       "      <td>450750.0</td>\n",
       "      <td>1.104212</td>\n",
       "      <td>7.952637</td>\n",
       "      <td>18.228140</td>\n",
       "      <td>39.694094</td>\n",
       "      <td>21.005906</td>\n",
       "    </tr>\n",
       "    <tr>\n",
       "      <th>New Mexico</th>\n",
       "      <td>42.1</td>\n",
       "      <td>29.0</td>\n",
       "      <td>167.0</td>\n",
       "      <td>0.2</td>\n",
       "      <td>14.6</td>\n",
       "      <td>53.4</td>\n",
       "      <td>13167.0</td>\n",
       "      <td>5700.0</td>\n",
       "      <td>55.85</td>\n",
       "      <td>423.4</td>\n",
       "      <td>779.64</td>\n",
       "      <td>75051900.0</td>\n",
       "      <td>0.943707</td>\n",
       "      <td>15.581658</td>\n",
       "      <td>30.141914</td>\n",
       "      <td>43.727382</td>\n",
       "      <td>12.122618</td>\n",
       "    </tr>\n",
       "    <tr>\n",
       "      <th>New York</th>\n",
       "      <td>40.4</td>\n",
       "      <td>61.0</td>\n",
       "      <td>63.0</td>\n",
       "      <td>13.6</td>\n",
       "      <td>41.8</td>\n",
       "      <td>45.4</td>\n",
       "      <td>5343.0</td>\n",
       "      <td>1000.0</td>\n",
       "      <td>60.28</td>\n",
       "      <td>2549.8</td>\n",
       "      <td>1897.72</td>\n",
       "      <td>5343000.0</td>\n",
       "      <td>1.098519</td>\n",
       "      <td>10.970990</td>\n",
       "      <td>24.119319</td>\n",
       "      <td>39.360458</td>\n",
       "      <td>20.919542</td>\n",
       "    </tr>\n",
       "    <tr>\n",
       "      <th>North Carolina</th>\n",
       "      <td>46.5</td>\n",
       "      <td>52.0</td>\n",
       "      <td>109.0</td>\n",
       "      <td>9.7</td>\n",
       "      <td>50.3</td>\n",
       "      <td>59.0</td>\n",
       "      <td>6684.0</td>\n",
       "      <td>700.0</td>\n",
       "      <td>59.30</td>\n",
       "      <td>2615.6</td>\n",
       "      <td>2967.70</td>\n",
       "      <td>4678800.0</td>\n",
       "      <td>1.085235</td>\n",
       "      <td>10.143758</td>\n",
       "      <td>25.509903</td>\n",
       "      <td>40.658200</td>\n",
       "      <td>18.641800</td>\n",
       "    </tr>\n",
       "    <tr>\n",
       "      <th>North Dakota</th>\n",
       "      <td>37.0</td>\n",
       "      <td>51.0</td>\n",
       "      <td>93.0</td>\n",
       "      <td>2.4</td>\n",
       "      <td>17.8</td>\n",
       "      <td>40.4</td>\n",
       "      <td>3508.0</td>\n",
       "      <td>1900.0</td>\n",
       "      <td>63.84</td>\n",
       "      <td>907.8</td>\n",
       "      <td>719.12</td>\n",
       "      <td>6665200.0</td>\n",
       "      <td>1.032019</td>\n",
       "      <td>12.555791</td>\n",
       "      <td>21.676985</td>\n",
       "      <td>50.178773</td>\n",
       "      <td>13.661227</td>\n",
       "    </tr>\n",
       "    <tr>\n",
       "      <th>Ohio</th>\n",
       "      <td>48.2</td>\n",
       "      <td>57.0</td>\n",
       "      <td>72.0</td>\n",
       "      <td>8.8</td>\n",
       "      <td>39.1</td>\n",
       "      <td>50.7</td>\n",
       "      <td>1549.0</td>\n",
       "      <td>850.0</td>\n",
       "      <td>56.36</td>\n",
       "      <td>2228.7</td>\n",
       "      <td>1982.37</td>\n",
       "      <td>1316650.0</td>\n",
       "      <td>1.081437</td>\n",
       "      <td>10.589485</td>\n",
       "      <td>17.506623</td>\n",
       "      <td>44.493317</td>\n",
       "      <td>11.866683</td>\n",
       "    </tr>\n",
       "    <tr>\n",
       "      <th>Oklahoma</th>\n",
       "      <td>43.5</td>\n",
       "      <td>48.0</td>\n",
       "      <td>139.0</td>\n",
       "      <td>1.9</td>\n",
       "      <td>36.5</td>\n",
       "      <td>59.6</td>\n",
       "      <td>4975.0</td>\n",
       "      <td>1300.0</td>\n",
       "      <td>53.03</td>\n",
       "      <td>1752.0</td>\n",
       "      <td>2175.40</td>\n",
       "      <td>6467500.0</td>\n",
       "      <td>1.023376</td>\n",
       "      <td>11.603468</td>\n",
       "      <td>23.689732</td>\n",
       "      <td>48.951123</td>\n",
       "      <td>4.078877</td>\n",
       "    </tr>\n",
       "    <tr>\n",
       "      <th>Oregon</th>\n",
       "      <td>36.1</td>\n",
       "      <td>59.0</td>\n",
       "      <td>68.0</td>\n",
       "      <td>2.4</td>\n",
       "      <td>27.4</td>\n",
       "      <td>48.4</td>\n",
       "      <td>11249.0</td>\n",
       "      <td>3300.0</td>\n",
       "      <td>57.22</td>\n",
       "      <td>1616.6</td>\n",
       "      <td>1326.16</td>\n",
       "      <td>37121700.0</td>\n",
       "      <td>1.032019</td>\n",
       "      <td>14.024407</td>\n",
       "      <td>29.006817</td>\n",
       "      <td>44.240167</td>\n",
       "      <td>12.979833</td>\n",
       "    </tr>\n",
       "    <tr>\n",
       "      <th>Pennsylvania</th>\n",
       "      <td>45.6</td>\n",
       "      <td>54.0</td>\n",
       "      <td>87.0</td>\n",
       "      <td>2.8</td>\n",
       "      <td>42.9</td>\n",
       "      <td>48.8</td>\n",
       "      <td>3213.0</td>\n",
       "      <td>1100.0</td>\n",
       "      <td>57.95</td>\n",
       "      <td>2316.6</td>\n",
       "      <td>2093.52</td>\n",
       "      <td>3534300.0</td>\n",
       "      <td>1.037762</td>\n",
       "      <td>11.198357</td>\n",
       "      <td>21.193748</td>\n",
       "      <td>47.103499</td>\n",
       "      <td>10.846501</td>\n",
       "    </tr>\n",
       "    <tr>\n",
       "      <th>Rhode Island</th>\n",
       "      <td>43.7</td>\n",
       "      <td>57.0</td>\n",
       "      <td>98.0</td>\n",
       "      <td>33.1</td>\n",
       "      <td>47.9</td>\n",
       "      <td>50.1</td>\n",
       "      <td>811.0</td>\n",
       "      <td>200.0</td>\n",
       "      <td>57.41</td>\n",
       "      <td>2730.3</td>\n",
       "      <td>2399.79</td>\n",
       "      <td>162200.0</td>\n",
       "      <td>1.134263</td>\n",
       "      <td>7.513820</td>\n",
       "      <td>14.677147</td>\n",
       "      <td>30.926246</td>\n",
       "      <td>26.483754</td>\n",
       "    </tr>\n",
       "    <tr>\n",
       "      <th>South Carolina</th>\n",
       "      <td>44.8</td>\n",
       "      <td>49.0</td>\n",
       "      <td>115.0</td>\n",
       "      <td>6.1</td>\n",
       "      <td>49.8</td>\n",
       "      <td>62.4</td>\n",
       "      <td>3560.0</td>\n",
       "      <td>350.0</td>\n",
       "      <td>57.19</td>\n",
       "      <td>2440.2</td>\n",
       "      <td>3107.52</td>\n",
       "      <td>1246000.0</td>\n",
       "      <td>1.067264</td>\n",
       "      <td>8.637899</td>\n",
       "      <td>21.758809</td>\n",
       "      <td>46.086093</td>\n",
       "      <td>11.103907</td>\n",
       "    </tr>\n",
       "    <tr>\n",
       "      <th>South Dakota</th>\n",
       "      <td>39.6</td>\n",
       "      <td>53.0</td>\n",
       "      <td>104.0</td>\n",
       "      <td>1.7</td>\n",
       "      <td>20.1</td>\n",
       "      <td>45.2</td>\n",
       "      <td>7244.0</td>\n",
       "      <td>2200.0</td>\n",
       "      <td>62.87</td>\n",
       "      <td>1065.3</td>\n",
       "      <td>908.52</td>\n",
       "      <td>15936800.0</td>\n",
       "      <td>1.019286</td>\n",
       "      <td>12.935957</td>\n",
       "      <td>26.025720</td>\n",
       "      <td>47.521895</td>\n",
       "      <td>15.348105</td>\n",
       "    </tr>\n",
       "    <tr>\n",
       "      <th>Tennessee</th>\n",
       "      <td>47.5</td>\n",
       "      <td>53.0</td>\n",
       "      <td>102.0</td>\n",
       "      <td>2.2</td>\n",
       "      <td>54.2</td>\n",
       "      <td>57.6</td>\n",
       "      <td>6643.0</td>\n",
       "      <td>900.0</td>\n",
       "      <td>56.38</td>\n",
       "      <td>2872.6</td>\n",
       "      <td>3121.92</td>\n",
       "      <td>5978700.0</td>\n",
       "      <td>1.028791</td>\n",
       "      <td>10.722779</td>\n",
       "      <td>25.470814</td>\n",
       "      <td>43.789886</td>\n",
       "      <td>12.590114</td>\n",
       "    </tr>\n",
       "    <tr>\n",
       "      <th>Texas</th>\n",
       "      <td>41.0</td>\n",
       "      <td>49.0</td>\n",
       "      <td>135.0</td>\n",
       "      <td>2.7</td>\n",
       "      <td>28.9</td>\n",
       "      <td>64.8</td>\n",
       "      <td>8751.0</td>\n",
       "      <td>1700.0</td>\n",
       "      <td>59.32</td>\n",
       "      <td>1416.1</td>\n",
       "      <td>1872.72</td>\n",
       "      <td>14876700.0</td>\n",
       "      <td>1.036404</td>\n",
       "      <td>12.271977</td>\n",
       "      <td>27.272217</td>\n",
       "      <td>47.107371</td>\n",
       "      <td>12.212629</td>\n",
       "    </tr>\n",
       "    <tr>\n",
       "      <th>Utah</th>\n",
       "      <td>51.2</td>\n",
       "      <td>43.0</td>\n",
       "      <td>125.0</td>\n",
       "      <td>3.2</td>\n",
       "      <td>12.2</td>\n",
       "      <td>48.6</td>\n",
       "      <td>13534.0</td>\n",
       "      <td>6100.0</td>\n",
       "      <td>64.48</td>\n",
       "      <td>524.6</td>\n",
       "      <td>592.92</td>\n",
       "      <td>82557400.0</td>\n",
       "      <td>1.042762</td>\n",
       "      <td>15.782429</td>\n",
       "      <td>30.344003</td>\n",
       "      <td>40.136745</td>\n",
       "      <td>24.343255</td>\n",
       "    </tr>\n",
       "    <tr>\n",
       "      <th>Vermont</th>\n",
       "      <td>38.5</td>\n",
       "      <td>58.0</td>\n",
       "      <td>58.0</td>\n",
       "      <td>4.2</td>\n",
       "      <td>42.7</td>\n",
       "      <td>42.9</td>\n",
       "      <td>4395.0</td>\n",
       "      <td>1000.0</td>\n",
       "      <td>58.59</td>\n",
       "      <td>2476.6</td>\n",
       "      <td>1831.83</td>\n",
       "      <td>4395000.0</td>\n",
       "      <td>1.053021</td>\n",
       "      <td>10.970990</td>\n",
       "      <td>22.958660</td>\n",
       "      <td>45.823485</td>\n",
       "      <td>12.766515</td>\n",
       "    </tr>\n",
       "    <tr>\n",
       "      <th>Virginia</th>\n",
       "      <td>45.0</td>\n",
       "      <td>52.0</td>\n",
       "      <td>100.0</td>\n",
       "      <td>7.7</td>\n",
       "      <td>44.3</td>\n",
       "      <td>55.1</td>\n",
       "      <td>5729.0</td>\n",
       "      <td>950.0</td>\n",
       "      <td>60.62</td>\n",
       "      <td>2303.6</td>\n",
       "      <td>2440.93</td>\n",
       "      <td>5442550.0</td>\n",
       "      <td>1.076251</td>\n",
       "      <td>10.849743</td>\n",
       "      <td>24.545493</td>\n",
       "      <td>43.304964</td>\n",
       "      <td>17.315036</td>\n",
       "    </tr>\n",
       "    <tr>\n",
       "      <th>Washington</th>\n",
       "      <td>33.5</td>\n",
       "      <td>62.0</td>\n",
       "      <td>58.0</td>\n",
       "      <td>6.8</td>\n",
       "      <td>38.4</td>\n",
       "      <td>48.3</td>\n",
       "      <td>14417.0</td>\n",
       "      <td>1700.0</td>\n",
       "      <td>60.21</td>\n",
       "      <td>2380.8</td>\n",
       "      <td>1854.72</td>\n",
       "      <td>24508900.0</td>\n",
       "      <td>1.071446</td>\n",
       "      <td>12.271977</td>\n",
       "      <td>30.813056</td>\n",
       "      <td>37.678639</td>\n",
       "      <td>22.531361</td>\n",
       "    </tr>\n",
       "    <tr>\n",
       "      <th>West Virginia</th>\n",
       "      <td>47.6</td>\n",
       "      <td>59.0</td>\n",
       "      <td>60.0</td>\n",
       "      <td>0.8</td>\n",
       "      <td>45.2</td>\n",
       "      <td>51.8</td>\n",
       "      <td>4863.0</td>\n",
       "      <td>1500.0</td>\n",
       "      <td>50.37</td>\n",
       "      <td>2666.8</td>\n",
       "      <td>2341.36</td>\n",
       "      <td>7294500.0</td>\n",
       "      <td>0.991999</td>\n",
       "      <td>11.957282</td>\n",
       "      <td>23.554010</td>\n",
       "      <td>45.365578</td>\n",
       "      <td>5.004422</td>\n",
       "    </tr>\n",
       "    <tr>\n",
       "      <th>Wisconsin</th>\n",
       "      <td>39.5</td>\n",
       "      <td>58.0</td>\n",
       "      <td>89.0</td>\n",
       "      <td>17.3</td>\n",
       "      <td>32.6</td>\n",
       "      <td>43.1</td>\n",
       "      <td>1951.0</td>\n",
       "      <td>1050.0</td>\n",
       "      <td>60.92</td>\n",
       "      <td>1890.8</td>\n",
       "      <td>1405.06</td>\n",
       "      <td>2048550.0</td>\n",
       "      <td>1.108076</td>\n",
       "      <td>11.087043</td>\n",
       "      <td>18.612186</td>\n",
       "      <td>41.470005</td>\n",
       "      <td>19.449995</td>\n",
       "    </tr>\n",
       "    <tr>\n",
       "      <th>Wyoming</th>\n",
       "      <td>45.0</td>\n",
       "      <td>43.0</td>\n",
       "      <td>114.0</td>\n",
       "      <td>0.7</td>\n",
       "      <td>12.9</td>\n",
       "      <td>42.0</td>\n",
       "      <td>13809.0</td>\n",
       "      <td>6700.0</td>\n",
       "      <td>58.00</td>\n",
       "      <td>554.7</td>\n",
       "      <td>541.80</td>\n",
       "      <td>92520300.0</td>\n",
       "      <td>0.987242</td>\n",
       "      <td>16.062976</td>\n",
       "      <td>30.492613</td>\n",
       "      <td>41.424260</td>\n",
       "      <td>16.575740</td>\n",
       "    </tr>\n",
       "  </tbody>\n",
       "</table>\n",
       "</div>"
      ],
      "text/plain": [
       "                air_quality  rel_humidity  avg_num_clear_days  pct_area_water  \\\n",
       "Alabama                46.6          52.0                99.0             3.4   \n",
       "Alaska                 29.1          64.0                61.0            14.2   \n",
       "Arizona                45.4          25.0               193.0             0.3   \n",
       "Arkansas               43.1          49.0               123.0             2.1   \n",
       "California             46.0          62.0               146.0             4.8   \n",
       "Colorado               47.1          35.0               136.0             0.4   \n",
       "Connecticut            45.0          52.0                82.0            12.6   \n",
       "Delaware               46.4          54.0                97.0            21.7   \n",
       "Florida                38.9          57.0               101.0            18.5   \n",
       "Georgia                48.2          50.0               112.0             3.2   \n",
       "Hawaii                 21.2          56.0                90.0            41.2   \n",
       "Idaho                  44.3          41.0               120.0             1.1   \n",
       "Illinois               43.6          58.0                95.0             4.1   \n",
       "Indiana                47.5          58.0                88.0             1.6   \n",
       "Iowa                   37.6          56.0               105.0             0.7   \n",
       "Kansas                 42.8          50.0               128.0             0.6   \n",
       "Kentucky               46.1          55.0                93.0             2.3   \n",
       "Louisiana              40.4          61.0               101.0            17.5   \n",
       "Maine                  36.5          61.0               101.0            12.8   \n",
       "Maryland               47.0          52.0               105.0            21.8   \n",
       "Massachusetts          41.4          59.0                98.0            26.1   \n",
       "Michigan               42.5          61.0                71.0            41.5   \n",
       "Minnesota              38.3          55.0                95.0             8.4   \n",
       "Mississippi            43.7          54.0               111.0             3.1   \n",
       "Missouri               44.0          53.0               115.0             1.4   \n",
       "Montana                39.6          45.0                82.0             1.0   \n",
       "Nebraska               37.0          53.0               117.0             0.7   \n",
       "Nevada                 42.1          32.0               158.0             0.7   \n",
       "New Hampshire          38.9          53.0                90.0             4.2   \n",
       "New Jersey             44.1          59.0                94.0            15.7   \n",
       "New Mexico             42.1          29.0               167.0             0.2   \n",
       "New York               40.4          61.0                63.0            13.6   \n",
       "North Carolina         46.5          52.0               109.0             9.7   \n",
       "North Dakota           37.0          51.0                93.0             2.4   \n",
       "Ohio                   48.2          57.0                72.0             8.8   \n",
       "Oklahoma               43.5          48.0               139.0             1.9   \n",
       "Oregon                 36.1          59.0                68.0             2.4   \n",
       "Pennsylvania           45.6          54.0                87.0             2.8   \n",
       "Rhode Island           43.7          57.0                98.0            33.1   \n",
       "South Carolina         44.8          49.0               115.0             6.1   \n",
       "South Dakota           39.6          53.0               104.0             1.7   \n",
       "Tennessee              47.5          53.0               102.0             2.2   \n",
       "Texas                  41.0          49.0               135.0             2.7   \n",
       "Utah                   51.2          43.0               125.0             3.2   \n",
       "Vermont                38.5          58.0                58.0             4.2   \n",
       "Virginia               45.0          52.0               100.0             7.7   \n",
       "Washington             33.5          62.0                58.0             6.8   \n",
       "West Virginia          47.6          59.0                60.0             0.8   \n",
       "Wisconsin              39.5          58.0                89.0            17.3   \n",
       "Wyoming                45.0          43.0               114.0             0.7   \n",
       "\n",
       "                rainfall_inches  temp_f  highest_point_ft  mean_elevation_ft  \\\n",
       "Alabama                    58.3    62.8            2413.0              500.0   \n",
       "Alaska                     22.5    26.6           20310.0             1900.0   \n",
       "Arizona                    13.6    60.3           12637.0             4100.0   \n",
       "Arkansas                   50.6    60.4            2753.0              650.0   \n",
       "California                 22.2    59.4           14505.0             2900.0   \n",
       "Colorado                   15.9    45.1           14440.0             6800.0   \n",
       "Connecticut                50.3    49.0            2379.0              500.0   \n",
       "Delaware                   45.7    55.3             447.0               60.0   \n",
       "Florida                    54.5    70.7             345.0              100.0   \n",
       "Georgia                    50.7    63.5            4784.0              600.0   \n",
       "Hawaii                     63.7    70.0           13803.0             3030.0   \n",
       "Idaho                      18.9    44.4           12668.0             5000.0   \n",
       "Illinois                   39.2    51.8            1235.0              600.0   \n",
       "Indiana                    41.7    51.7            1257.0              700.0   \n",
       "Iowa                       34.0    47.8            1671.0             1100.0   \n",
       "Kansas                     28.9    54.3            4041.0             2000.0   \n",
       "Kentucky                   48.9    55.6            4145.0              750.0   \n",
       "Louisiana                  60.1    66.4             535.0              100.0   \n",
       "Maine                      42.2    41.0            5270.0              600.0   \n",
       "Maryland                   44.5    54.2            3360.0              350.0   \n",
       "Massachusetts              47.7    47.9            3489.0              500.0   \n",
       "Michigan                   32.8    44.4            1979.0              900.0   \n",
       "Minnesota                  27.3    41.2            2302.0             1200.0   \n",
       "Mississippi                59.0    63.4             807.0              300.0   \n",
       "Missouri                   42.2    54.5            1772.0              800.0   \n",
       "Montana                    15.3    42.7           12807.0             3400.0   \n",
       "Nebraska                   23.6    48.8            5427.0             2600.0   \n",
       "Nevada                      9.5    49.9           13147.0             5500.0   \n",
       "New Hampshire              43.4    43.8            6288.0             1000.0   \n",
       "New Jersey                 47.1    52.7            1803.0              250.0   \n",
       "New Mexico                 14.6    53.4           13167.0             5700.0   \n",
       "New York                   41.8    45.4            5343.0             1000.0   \n",
       "North Carolina             50.3    59.0            6684.0              700.0   \n",
       "North Dakota               17.8    40.4            3508.0             1900.0   \n",
       "Ohio                       39.1    50.7            1549.0              850.0   \n",
       "Oklahoma                   36.5    59.6            4975.0             1300.0   \n",
       "Oregon                     27.4    48.4           11249.0             3300.0   \n",
       "Pennsylvania               42.9    48.8            3213.0             1100.0   \n",
       "Rhode Island               47.9    50.1             811.0              200.0   \n",
       "South Carolina             49.8    62.4            3560.0              350.0   \n",
       "South Dakota               20.1    45.2            7244.0             2200.0   \n",
       "Tennessee                  54.2    57.6            6643.0              900.0   \n",
       "Texas                      28.9    64.8            8751.0             1700.0   \n",
       "Utah                       12.2    48.6           13534.0             6100.0   \n",
       "Vermont                    42.7    42.9            4395.0             1000.0   \n",
       "Virginia                   44.3    55.1            5729.0              950.0   \n",
       "Washington                 38.4    48.3           14417.0             1700.0   \n",
       "West Virginia              45.2    51.8            4863.0             1500.0   \n",
       "Wisconsin                  32.6    43.1            1951.0             1050.0   \n",
       "Wyoming                    12.9    42.0           13809.0             6700.0   \n",
       "\n",
       "                happiness_avg  HM__x__RF  TM__x__RF   HP__x__ME  \\\n",
       "Alabama                 53.72     3031.6    3661.24   1206500.0   \n",
       "Alaska                  54.60     1440.0     598.50  38589000.0   \n",
       "Arizona                 59.51      340.0     820.08  51811700.0   \n",
       "Arkansas                52.27     2479.4    3056.24   1789450.0   \n",
       "California              62.81     1376.4    1318.68  42064500.0   \n",
       "Colorado                60.59      556.5     717.09  98192000.0   \n",
       "Connecticut             60.55     2615.6    2464.70   1189500.0   \n",
       "Delaware                57.92     2467.8    2527.21     26820.0   \n",
       "Florida                 58.84     3106.5    3853.15     34500.0   \n",
       "Georgia                 59.58     2535.0    3219.45   2870400.0   \n",
       "Hawaii                  65.62     3567.2    4459.00  41823090.0   \n",
       "Idaho                   62.86      774.9     839.16  63340000.0   \n",
       "Illinois                58.39     2273.6    2030.56    741000.0   \n",
       "Indiana                 57.03     2418.6    2155.89    879900.0   \n",
       "Iowa                    61.79     1904.0    1625.20   1838100.0   \n",
       "Kansas                  58.43     1445.0    1569.27   8082000.0   \n",
       "Kentucky                53.24     2689.5    2718.84   3108750.0   \n",
       "Louisiana               52.35     3666.1    3990.64     53500.0   \n",
       "Maine                   58.34     2574.2    1730.20   3162000.0   \n",
       "Maryland                61.69     2314.0    2411.90   1176000.0   \n",
       "Massachusetts           60.78     2814.3    2284.83   1744500.0   \n",
       "Michigan                57.41     2000.8    1456.32   1781100.0   \n",
       "Minnesota               64.52     1501.5    1124.76   2762400.0   \n",
       "Mississippi             54.18     3186.0    3740.60    242100.0   \n",
       "Missouri                55.05     2236.6    2299.90   1417600.0   \n",
       "Montana                 59.03      688.5     653.31  43543800.0   \n",
       "Nebraska                61.37     1250.8    1151.68  14110200.0   \n",
       "Nevada                  57.93      304.0     474.05  72308500.0   \n",
       "New Hampshire           59.26     2300.2    1900.92   6288000.0   \n",
       "New Jersey              60.70     2778.9    2482.17    450750.0   \n",
       "New Mexico              55.85      423.4     779.64  75051900.0   \n",
       "New York                60.28     2549.8    1897.72   5343000.0   \n",
       "North Carolina          59.30     2615.6    2967.70   4678800.0   \n",
       "North Dakota            63.84      907.8     719.12   6665200.0   \n",
       "Ohio                    56.36     2228.7    1982.37   1316650.0   \n",
       "Oklahoma                53.03     1752.0    2175.40   6467500.0   \n",
       "Oregon                  57.22     1616.6    1326.16  37121700.0   \n",
       "Pennsylvania            57.95     2316.6    2093.52   3534300.0   \n",
       "Rhode Island            57.41     2730.3    2399.79    162200.0   \n",
       "South Carolina          57.19     2440.2    3107.52   1246000.0   \n",
       "South Dakota            62.87     1065.3     908.52  15936800.0   \n",
       "Tennessee               56.38     2872.6    3121.92   5978700.0   \n",
       "Texas                   59.32     1416.1    1872.72  14876700.0   \n",
       "Utah                    64.48      524.6     592.92  82557400.0   \n",
       "Vermont                 58.59     2476.6    1831.83   4395000.0   \n",
       "Virginia                60.62     2303.6    2440.93   5442550.0   \n",
       "Washington              60.21     2380.8    1854.72  24508900.0   \n",
       "West Virginia           50.37     2666.8    2341.36   7294500.0   \n",
       "Wisconsin               60.92     1890.8    1405.06   2048550.0   \n",
       "Wyoming                 58.00      554.7     541.80  92520300.0   \n",
       "\n",
       "                pct_area_water_bc  mean_elevation_bc      hp_bc  \\\n",
       "Alabama                  1.045041           9.396474  19.679026   \n",
       "Alaska                   1.100227          12.555791  33.467698   \n",
       "Arizona                  0.957583          14.630178  29.842066   \n",
       "Arkansas                 1.027070           9.976459  20.365059   \n",
       "California               1.058095          13.671538  30.858547   \n",
       "Colorado                 0.967552          16.107579  30.824967   \n",
       "Connecticut              1.095502           9.396474  19.606300   \n",
       "Delaware                 1.117153           5.346239  12.391301   \n",
       "Florida                  1.110755           6.226235  11.483207   \n",
       "Georgia                  1.042762           9.797496  23.456785   \n",
       "Hawaii                   1.143237          13.790657  30.489395   \n",
       "Idaho                    1.003437          15.198571  29.859876   \n",
       "Illinois                 1.052108           9.797496  16.472044   \n",
       "Indiana                  1.017064          10.143758  16.550925   \n",
       "Iowa                     0.987242          11.198357  17.863990   \n",
       "Kansas                   0.981778          12.688011  22.474098   \n",
       "Kentucky                 1.030439          10.300908  22.619824   \n",
       "Louisiana                1.108535           6.226235  13.051010   \n",
       "Maine                    1.096124           9.797496  24.036003   \n",
       "Maryland                 1.117338           8.637899  21.438738   \n",
       "Massachusetts            1.124603           9.396474  21.646849   \n",
       "Michigan                 1.143536          10.722779  18.682236   \n",
       "Minnesota                1.079628          11.408307  19.438511   \n",
       "Mississippi              1.041571           8.320375  14.656974   \n",
       "Missouri                 1.012187          10.449145  18.144561   \n",
       "Montana                  1.000000          14.106748  29.939309   \n",
       "Nebraska                 0.987242          13.377733  24.214084   \n",
       "Nevada                   0.987242          15.476607  30.130773   \n",
       "New Hampshire            1.053021          10.970990  25.124133   \n",
       "New Jersey               1.104212           7.952637  18.228140   \n",
       "New Mexico               0.943707          15.581658  30.141914   \n",
       "New York                 1.098519          10.970990  24.119319   \n",
       "North Carolina           1.085235          10.143758  25.509903   \n",
       "North Dakota             1.032019          12.555791  21.676985   \n",
       "Ohio                     1.081437          10.589485  17.506623   \n",
       "Oklahoma                 1.023376          11.603468  23.689732   \n",
       "Oregon                   1.032019          14.024407  29.006817   \n",
       "Pennsylvania             1.037762          11.198357  21.193748   \n",
       "Rhode Island             1.134263           7.513820  14.677147   \n",
       "South Carolina           1.067264           8.637899  21.758809   \n",
       "South Dakota             1.019286          12.935957  26.025720   \n",
       "Tennessee                1.028791          10.722779  25.470814   \n",
       "Texas                    1.036404          12.271977  27.272217   \n",
       "Utah                     1.042762          15.782429  30.344003   \n",
       "Vermont                  1.053021          10.970990  22.958660   \n",
       "Virginia                 1.076251          10.849743  24.545493   \n",
       "Washington               1.071446          12.271977  30.813056   \n",
       "West Virginia            0.991999          11.957282  23.554010   \n",
       "Wisconsin                1.108076          11.087043  18.612186   \n",
       "Wyoming                  0.987242          16.062976  30.492613   \n",
       "\n",
       "                feature_eng_predict  feature_eng_resid  \n",
       "Alabama                   46.485074           7.234926  \n",
       "Alaska                    29.296699          25.303301  \n",
       "Arizona                   44.042415          15.467585  \n",
       "Arkansas                  49.188495           3.081505  \n",
       "California                39.990597          22.819403  \n",
       "Colorado                  40.816312          19.773688  \n",
       "Connecticut               42.185590          18.364410  \n",
       "Delaware                  37.560522          20.359478  \n",
       "Florida                   39.889526          18.950474  \n",
       "Georgia                   45.848097          13.731903  \n",
       "Hawaii                    20.824392          44.795608  \n",
       "Idaho                     42.658598          20.201402  \n",
       "Illinois                  47.908001          10.481999  \n",
       "Indiana                   48.031082           8.998918  \n",
       "Iowa                      51.266940          10.523060  \n",
       "Kansas                    50.368797           8.061203  \n",
       "Kentucky                  45.933841           7.306159  \n",
       "Louisiana                 37.757512          14.592488  \n",
       "Maine                     40.107959          18.232041  \n",
       "Maryland                  36.575151          25.114849  \n",
       "Massachusetts             33.253318          27.526682  \n",
       "Michigan                  27.148245          30.261755  \n",
       "Minnesota                 46.910390          17.609610  \n",
       "Mississippi               47.394368           6.785632  \n",
       "Missouri                  49.626028           5.423972  \n",
       "Montana                   43.140449          15.889551  \n",
       "Nebraska                  50.213225          11.156775  \n",
       "Nevada                    42.852107          15.077893  \n",
       "New Hampshire             45.166858          14.093142  \n",
       "New Jersey                39.694094          21.005906  \n",
       "New Mexico                43.727382          12.122618  \n",
       "New York                  39.360458          20.919542  \n",
       "North Carolina            40.658200          18.641800  \n",
       "North Dakota              50.178773          13.661227  \n",
       "Ohio                      44.493317          11.866683  \n",
       "Oklahoma                  48.951123           4.078877  \n",
       "Oregon                    44.240167          12.979833  \n",
       "Pennsylvania              47.103499          10.846501  \n",
       "Rhode Island              30.926246          26.483754  \n",
       "South Carolina            46.086093          11.103907  \n",
       "South Dakota              47.521895          15.348105  \n",
       "Tennessee                 43.789886          12.590114  \n",
       "Texas                     47.107371          12.212629  \n",
       "Utah                      40.136745          24.343255  \n",
       "Vermont                   45.823485          12.766515  \n",
       "Virginia                  43.304964          17.315036  \n",
       "Washington                37.678639          22.531361  \n",
       "West Virginia             45.365578           5.004422  \n",
       "Wisconsin                 41.470005          19.449995  \n",
       "Wyoming                   41.424260          16.575740  "
      ]
     },
     "execution_count": 228,
     "metadata": {},
     "output_type": "execute_result"
    }
   ],
   "source": [
    "df.head(50)"
   ]
  },
  {
   "cell_type": "markdown",
   "metadata": {},
   "source": [
    "#### Setting up for modeling:"
   ]
  },
  {
   "cell_type": "code",
   "execution_count": 1115,
   "metadata": {},
   "outputs": [],
   "source": [
    "X = df.loc[:,['air_quality', 'rel_humidity', 'avg_num_clear_days',\n",
    "                     'pct_area_water', 'rainfall_inches', 'temp_f',\n",
    "                     'highest_point_ft', 'mean_elevation_ft', 'HM__x__RF',\n",
    "                     'TM__x__RF', 'HP__x__ME', 'pct_area_water_bc', \n",
    "                      'mean_elevation_bc', 'hp_bc']]\n",
    "\n",
    "y = df['happiness_avg']\n",
    "\n",
    "# create overall quality squared term, which we expect to \n",
    "# help based on the relationship we see in the pair plot "
   ]
  },
  {
   "cell_type": "code",
   "execution_count": 687,
   "metadata": {},
   "outputs": [],
   "source": [
    "X = df.loc[:,['mean_elevation_bc', 'air_quality', 'pct_area_water_bc', 'HM__x__RF', 'temp_f']]\n",
    "\n",
    "y = df['happiness_avg']\n",
    "\n",
    "# THIS IS A GOOD MIXTURE"
   ]
  },
  {
   "cell_type": "code",
   "execution_count": 921,
   "metadata": {},
   "outputs": [],
   "source": [
    "X = df.loc[:,['mean_elevation_bc', 'air_quality', 'pct_area_water_bc', 'HM__x__RF']]\n",
    "\n",
    "y = df['happiness_avg']"
   ]
  },
  {
   "cell_type": "code",
   "execution_count": 1118,
   "metadata": {},
   "outputs": [
    {
     "data": {
      "text/plain": [
       "(40, 14)"
      ]
     },
     "execution_count": 1118,
     "metadata": {},
     "output_type": "execute_result"
    }
   ],
   "source": [
    "## Split the data 80 - 20 train_val/test\n",
    "\n",
    "X_train_val, X_test, y_train_val, y_test = train_test_split(X, y, test_size=0.2)\n",
    "# X_train, X_val, y_train, y_val = train_test_split(X_train_val, y_train_val, test_size=.25, random_state=43)\n",
    "X_train_val.shape"
   ]
  },
  {
   "cell_type": "code",
   "execution_count": 1119,
   "metadata": {},
   "outputs": [
    {
     "data": {
      "text/plain": [
       "StandardScaler(copy=True, with_mean=True, with_std=True)"
      ]
     },
     "execution_count": 1119,
     "metadata": {},
     "output_type": "execute_result"
    }
   ],
   "source": [
    "## Scale the data\n",
    "std = StandardScaler()\n",
    "std.fit(X_train_val.values)"
   ]
  },
  {
   "cell_type": "code",
   "execution_count": 1120,
   "metadata": {},
   "outputs": [],
   "source": [
    "## Scale the Predictors on both the train and test set\n",
    "X_tr = std.transform(X_train_val.values)\n",
    "X_te = std.transform(X_test.values)"
   ]
  },
  {
   "cell_type": "code",
   "execution_count": null,
   "metadata": {},
   "outputs": [],
   "source": [
    "#Mean Absolute Error (MAE)\n",
    "def mae(y_true, y_pred):\n",
    "    return np.mean(np.abs(y_pred - y_true)) "
   ]
  },
  {
   "cell_type": "code",
   "execution_count": null,
   "metadata": {},
   "outputs": [],
   "source": [
    "#Mean Squared Error (MSE)\n",
    "def mse(y_true, y_pred):\n",
    "    return np.mean(np.square(y_pred - y_true)) "
   ]
  },
  {
   "cell_type": "code",
   "execution_count": null,
   "metadata": {},
   "outputs": [],
   "source": [
    "#Adjusted R-squared\n",
    "def get_adj_r2(r2, n, p):\n",
    "    return 1-(1-r2)*(n-1)/(n-1-p)"
   ]
  },
  {
   "cell_type": "code",
   "execution_count": 1097,
   "metadata": {},
   "outputs": [],
   "source": [
    "def make_resid_plot(actual, prediction):\n",
    "    resid = actual - prediction\n",
    "    with sns.axes_style('white'):\n",
    "        fig, ax = plt.subplots(figsize=(10,6))\n",
    "        stats.probplot(resid, dist=\"norm\", plot=plt)\n",
    "        plt.title(\"Normal Q-Q plot\")"
   ]
  },
  {
   "cell_type": "code",
   "execution_count": null,
   "metadata": {},
   "outputs": [],
   "source": []
  },
  {
   "cell_type": "markdown",
   "metadata": {},
   "source": [
    "## Run a LassoCV Model"
   ]
  },
  {
   "cell_type": "code",
   "execution_count": 1024,
   "metadata": {},
   "outputs": [
    {
     "data": {
      "text/plain": [
       "LassoCV(alphas=array([1.00000e-02, 1.04737e-02, ..., 9.54772e+01, 1.00000e+02]),\n",
       "    copy_X=True, cv=5, eps=0.001, fit_intercept=True, max_iter=1000,\n",
       "    n_alphas=100, n_jobs=None, normalize=False, positive=False,\n",
       "    precompute='auto', random_state=None, selection='cyclic', tol=0.0001,\n",
       "    verbose=False)"
      ]
     },
     "execution_count": 1024,
     "metadata": {},
     "output_type": "execute_result"
    }
   ],
   "source": [
    "# Run the cross validation, find the best alpha, refit the model on all the data with that alpha\n",
    "\n",
    "alphavec_l = np.logspace(-2,2,200)\n",
    "\n",
    "lasso_model = LassoCV(alphas = alphavec_l, cv=5)\n",
    "lasso_model.fit(X_tr, y_train_val)"
   ]
  },
  {
   "cell_type": "code",
   "execution_count": 1025,
   "metadata": {},
   "outputs": [
    {
     "data": {
      "text/plain": [
       "0.01"
      ]
     },
     "execution_count": 1025,
     "metadata": {},
     "output_type": "execute_result"
    }
   ],
   "source": [
    "# This is the best LASSO alpha value it found\n",
    "lasso_model.alpha_"
   ]
  },
  {
   "cell_type": "code",
   "execution_count": 1026,
   "metadata": {},
   "outputs": [
    {
     "data": {
      "text/plain": [
       "[('mean_elevation_bc', 1.010610198794865),\n",
       " ('air_quality', -0.9029406920027799),\n",
       " ('pct_area_water_bc', 2.7689661467572804),\n",
       " ('HM__x__RF', -2.495725889141736)]"
      ]
     },
     "execution_count": 1026,
     "metadata": {},
     "output_type": "execute_result"
    }
   ],
   "source": [
    "list(zip(X_train_val.columns, lasso_model.coef_))"
   ]
  },
  {
   "cell_type": "code",
   "execution_count": 1027,
   "metadata": {},
   "outputs": [],
   "source": [
    "# Make predictions on the test set using the LASSO model\n",
    "test_set_pred_lasso = lasso_model.predict(X_te)\n",
    "train_val_set_pred_lasso = lasso_model.predict(X_tr)"
   ]
  },
  {
   "cell_type": "code",
   "execution_count": 1080,
   "metadata": {},
   "outputs": [
    {
     "data": {
      "text/plain": [
       "(10, 4)"
      ]
     },
     "execution_count": 1080,
     "metadata": {},
     "output_type": "execute_result"
    }
   ],
   "source": [
    "shape(X_te)"
   ]
  },
  {
   "cell_type": "code",
   "execution_count": 1038,
   "metadata": {},
   "outputs": [
    {
     "name": "stdout",
     "output_type": "stream",
     "text": [
      "test_rmse:  4.770801908640629\n"
     ]
    }
   ],
   "source": [
    "# Find the MSE and R^2 on the test set using this LASSO model\n",
    "test_mse = mse(y_test, test_set_pred_lasso)\n",
    "print('test_rmse: ', np.sqrt(test_mse))"
   ]
  },
  {
   "cell_type": "code",
   "execution_count": 1032,
   "metadata": {},
   "outputs": [
    {
     "data": {
      "text/plain": [
       "-2.6634171823771187"
      ]
     },
     "execution_count": 1032,
     "metadata": {},
     "output_type": "execute_result"
    }
   ],
   "source": [
    "# Find r2 score for LASSO\n",
    "r2_lasso = r2_score(y_test, test_set_pred_lasso)\n",
    "r2_lasso"
   ]
  },
  {
   "cell_type": "code",
   "execution_count": 1033,
   "metadata": {},
   "outputs": [
    {
     "data": {
      "text/plain": [
       "0.618229646573363"
      ]
     },
     "execution_count": 1033,
     "metadata": {},
     "output_type": "execute_result"
    }
   ],
   "source": [
    "r2_lasso_in_sample = r2_score(y_train_val, train_val_set_pred_lasso)\n",
    "r2_lasso_in_sample"
   ]
  },
  {
   "cell_type": "code",
   "execution_count": 1034,
   "metadata": {},
   "outputs": [
    {
     "data": {
      "text/plain": [
       "-2.989054265255085"
      ]
     },
     "execution_count": 1034,
     "metadata": {},
     "output_type": "execute_result"
    }
   ],
   "source": [
    "# Find adjusted r2 score for LASSO\n",
    "adj_r2_lasso = get_adj_r2(r2_lasso, X.shape[0], X.shape[1])\n",
    "adj_r2_lasso"
   ]
  },
  {
   "cell_type": "code",
   "execution_count": 1036,
   "metadata": {},
   "outputs": [
    {
     "data": {
      "text/plain": [
       "[<matplotlib.lines.Line2D at 0x1c282311d0>]"
      ]
     },
     "execution_count": 1036,
     "metadata": {},
     "output_type": "execute_result"
    },
    {
     "data": {
      "image/png": "[encoded data removed]",
      "text/plain": [
       "<Figure size 432x288 with 1 Axes>"
      ]
     },
     "metadata": {},
     "output_type": "display_data"
    }
   ],
   "source": [
    "plt.scatter(test_set_pred_lasso, y_test, alpha = 0.1)\n",
    "plt.scatter(y_train_val, train_val_set_pred_lasso, alpha = 0.5)\n",
    "plt.plot(np.linspace(50,65,1000), np.linspace(50,65,1000))"
   ]
  },
  {
   "cell_type": "code",
   "execution_count": 1052,
   "metadata": {},
   "outputs": [],
   "source": [
    "sns.set(font='sans-serif', font_scale=1.25, palette=\"bright\")"
   ]
  },
  {
   "cell_type": "code",
   "execution_count": 1073,
   "metadata": {},
   "outputs": [
    {
     "data": {
      "image/png": "[encoded data removed]",
      "text/plain": [
       "<Figure size 720x432 with 1 Axes>"
      ]
     },
     "metadata": {},
     "output_type": "display_data"
    }
   ],
   "source": [
    "#Make a pretty seaborn plot:\n",
    "fig, ax = plt.subplots(figsize=(10,6))\n",
    "# sns.scatterplot(x=y_test, y=test_set_pred_lasso)\n",
    "sns.scatterplot(x=y_train_val, y=train_val_set_pred_lasso, marker = 'x')\n",
    "sns.scatterplot(x=y_train_val, y=train_val_set_pred_ridge)\n",
    "sns.lineplot(np.linspace(50,67,1000), np.linspace(50,67,1000), color='green')\n",
    "\n",
    "ax.legend(labels=[\"Perfect Prediction\", \"Lasso Prediction\", \"Ridge Prediction\"], loc = 4)\n",
    "ax.set(xlabel='True Happiness', ylabel='Predicted Happiness', title='Lasso vs. Ridge Regression')\n",
    "plt.savefig('data/lasso_v_ridge.png', dpi=100)\n",
    "plt.show()"
   ]
  },
  {
   "cell_type": "code",
   "execution_count": 1085,
   "metadata": {},
   "outputs": [],
   "source": [
    "# make_resid_plot(y_train_val, train_val_set_pred_lasso)"
   ]
  },
  {
   "cell_type": "markdown",
   "metadata": {},
   "source": [
    "## Run a RidgeCV Model"
   ]
  },
  {
   "cell_type": "code",
   "execution_count": 988,
   "metadata": {},
   "outputs": [
    {
     "data": {
      "text/plain": [
       "RidgeCV(alphas=array([1.00000e-02, 1.04737e-02, ..., 9.54772e+01, 1.00000e+02]),\n",
       "    cv=4, fit_intercept=True, gcv_mode=None, normalize=False, scoring=None,\n",
       "    store_cv_values=False)"
      ]
     },
     "execution_count": 988,
     "metadata": {},
     "output_type": "execute_result"
    }
   ],
   "source": [
    "# Run the cross validation, find the best alpha, refit the model on all the data with that alpha\n",
    "\n",
    "# alphavec_r = 10**np.linspace(-2,0,400)\n",
    "alphavec_r = np.logspace(-2,2,200)\n",
    "# alpha = 57\n",
    "\n",
    "ridge_model = RidgeCV(alphas=alphavec_r, cv=4)\n",
    "ridge_model.fit(X_tr, y_train_val)"
   ]
  },
  {
   "cell_type": "code",
   "execution_count": 989,
   "metadata": {},
   "outputs": [
    {
     "data": {
      "text/plain": [
       "5.17092024289676"
      ]
     },
     "execution_count": 989,
     "metadata": {},
     "output_type": "execute_result"
    }
   ],
   "source": [
    "# This is the best RIDGE alpha value found\n",
    "ridge_model.alpha_"
   ]
  },
  {
   "cell_type": "code",
   "execution_count": 990,
   "metadata": {},
   "outputs": [
    {
     "data": {
      "text/plain": [
       "[('mean_elevation_bc', 0.9607899528015582),\n",
       " ('air_quality', -0.8731839818110476),\n",
       " ('pct_area_water_bc', 2.0427932875111066),\n",
       " ('HM__x__RF', -1.8233216593260808)]"
      ]
     },
     "execution_count": 990,
     "metadata": {},
     "output_type": "execute_result"
    }
   ],
   "source": [
    "# These are the (standardized) coefficients found\n",
    "# when it refit using that best alpha\n",
    "list(zip(X_train_val.columns, ridge_model.coef_))"
   ]
  },
  {
   "cell_type": "code",
   "execution_count": 991,
   "metadata": {},
   "outputs": [],
   "source": [
    "# Make predictions on the test set using the RIDGE model\n",
    "test_set_pred_ridge = ridge_model.predict(X_te)\n",
    "train_val_set_pred_ridge = ridge_model.predict(X_tr)"
   ]
  },
  {
   "cell_type": "code",
   "execution_count": 993,
   "metadata": {},
   "outputs": [
    {
     "name": "stdout",
     "output_type": "stream",
     "text": [
      "test_rmse:  4.250230636315564\n",
      "train_val_rmse:  2.2752288906158955\n",
      "total_mse:  6.52545952693146\n"
     ]
    }
   ],
   "source": [
    "# Find the MSE and R^2 on the test set using this RIDGE model\n",
    "# use mean squared error\n",
    "test_mse = mse(y_test, test_set_pred_ridge)\n",
    "train_val_mse = mse(y_train_val, train_val_set_pred_ridge)\n",
    "print('test_rmse: ', np.sqrt(test_mse))\n",
    "print('train_val_rmse: ', np.sqrt(train_val_mse))\n",
    "print('total_mse: ', np.sqrt(test_mse)+np.sqrt(train_val_mse))"
   ]
  },
  {
   "cell_type": "code",
   "execution_count": 994,
   "metadata": {},
   "outputs": [
    {
     "data": {
      "text/plain": [
       "-1.907559455753546"
      ]
     },
     "execution_count": 994,
     "metadata": {},
     "output_type": "execute_result"
    }
   ],
   "source": [
    "# Find r2 score for RIDGE\n",
    "r2_ridge = r2_score(y_test, test_set_pred_ridge)\n",
    "r2_ridge"
   ]
  },
  {
   "cell_type": "code",
   "execution_count": 995,
   "metadata": {},
   "outputs": [
    {
     "data": {
      "text/plain": [
       "0.5884560401420544"
      ]
     },
     "execution_count": 995,
     "metadata": {},
     "output_type": "execute_result"
    }
   ],
   "source": [
    "# THIS IS THE MONEY\n",
    "r2_ridge_in_sample = r2_score(y_train_val, train_val_set_pred_ridge)\n",
    "r2_ridge_in_sample"
   ]
  },
  {
   "cell_type": "code",
   "execution_count": 996,
   "metadata": {},
   "outputs": [
    {
     "data": {
      "text/plain": [
       "-2.1660091851538614"
      ]
     },
     "execution_count": 996,
     "metadata": {},
     "output_type": "execute_result"
    }
   ],
   "source": [
    "# Find adjusted r2 score for LASSO\n",
    "adj_r2_ridge = get_adj_r2(r2_ridge, X.shape[0], X.shape[1])\n",
    "adj_r2_ridge"
   ]
  },
  {
   "cell_type": "code",
   "execution_count": 997,
   "metadata": {},
   "outputs": [
    {
     "data": {
      "text/plain": [
       "[<matplotlib.lines.Line2D at 0x1c28f9c4a8>]"
      ]
     },
     "execution_count": 997,
     "metadata": {},
     "output_type": "execute_result"
    },
    {
     "data": {
      "image/png": "[encoded data removed]",
      "text/plain": [
       "<Figure size 432x288 with 1 Axes>"
      ]
     },
     "metadata": {},
     "output_type": "display_data"
    }
   ],
   "source": [
    "plt.scatter(y_test, test_set_pred_ridge, alpha = 0.1)\n",
    "plt.scatter(y_train_val, train_val_set_pred_ridge, alpha = 0.5)\n",
    "plt.plot(np.linspace(50,65,1000), np.linspace(50,65,1000))"
   ]
  },
  {
   "cell_type": "code",
   "execution_count": 1023,
   "metadata": {},
   "outputs": [
    {
     "data": {
      "image/png": "[encoded data removed]",
      "text/plain": [
       "<Figure size 720x432 with 1 Axes>"
      ]
     },
     "metadata": {},
     "output_type": "display_data"
    }
   ],
   "source": [
    "fig, ax = plt.subplots(figsize=(10,6))\n",
    "sns.scatterplot(x=y_test, y=test_set_pred_ridge)\n",
    "sns.scatterplot(x=y_train_val, y=train_val_set_pred_ridge)\n",
    "sns.lineplot(np.linspace(50,65,1000), np.linspace(50,65,1000))\n",
    "\n",
    "ax.legend(labels=[\"Perfect Prediction\",\"Test Points\",\"Train/Validation Points\"], loc = 4)\n",
    "ax.set(xlabel='True Happiness', ylabel='Predicted Happiness', title='Ridge Regression')\n",
    "plt.show()"
   ]
  },
  {
   "cell_type": "code",
   "execution_count": 404,
   "metadata": {},
   "outputs": [
    {
     "ename": "TypeError",
     "evalue": "file must have a 'write' attribute",
     "output_type": "error",
     "traceback": [
      "\u001b[0;31m---------------------------------------------------------------------------\u001b[0m",
      "\u001b[0;31mTypeError\u001b[0m                                 Traceback (most recent call last)",
      "\u001b[0;32m<ipython-input-404-77a9080c4d72>\u001b[0m in \u001b[0;36m<module>\u001b[0;34m\u001b[0m\n\u001b[1;32m      1\u001b[0m \u001b[0;31m#Pickle the model\u001b[0m\u001b[0;34m\u001b[0m\u001b[0;34m\u001b[0m\u001b[0;34m\u001b[0m\u001b[0m\n\u001b[0;32m----> 2\u001b[0;31m \u001b[0mpickle\u001b[0m\u001b[0;34m.\u001b[0m\u001b[0mdump\u001b[0m\u001b[0;34m(\u001b[0m\u001b[0mridge_model\u001b[0m\u001b[0;34m,\u001b[0m \u001b[0;34m'data/model_1'\u001b[0m\u001b[0;34m)\u001b[0m\u001b[0;34m\u001b[0m\u001b[0;34m\u001b[0m\u001b[0m\n\u001b[0m",
      "\u001b[0;31mTypeError\u001b[0m: file must have a 'write' attribute"
     ]
    }
   ],
   "source": [
    "#Pickle the model\n",
    "pickle.dump(ridge_model, 'data/model_1')"
   ]
  },
  {
   "cell_type": "code",
   "execution_count": 1086,
   "metadata": {},
   "outputs": [],
   "source": [
    "# make_resid_plot(y_train_val, train_val_set_pred_ridge)"
   ]
  },
  {
   "cell_type": "markdown",
   "metadata": {},
   "source": [
    "# RidgeCV is being weird. Let's try GridSearch instead"
   ]
  },
  {
   "cell_type": "code",
   "execution_count": 1105,
   "metadata": {},
   "outputs": [
    {
     "name": "stdout",
     "output_type": "stream",
     "text": [
      "GridSearchCV(cv='warn', error_score='raise-deprecating',\n",
      "       estimator=Ridge(alpha=1.0, copy_X=True, fit_intercept=True, max_iter=None,\n",
      "   normalize=False, random_state=None, solver='auto', tol=0.001),\n",
      "       fit_params=None, iid='warn', n_jobs=None,\n",
      "       param_grid={'alpha': array([1.00000e-02, 1.04737e-02, ..., 9.54772e+01, 1.00000e+02])},\n",
      "       pre_dispatch='2*n_jobs', refit=True, return_train_score='warn',\n",
      "       scoring=None, verbose=0)\n",
      "0.050572131477848004\n",
      "1.9563983435170649\n"
     ]
    }
   ],
   "source": [
    "# Grid Search for Algorithm Tuning\n",
    "\n",
    "# Use the same list of alphas as I did for RidgeCV (alphavec_r)\n",
    "\n",
    "# create and fit a ridge regression model, testing each alpha\n",
    "model = Ridge()\n",
    "grid = GridSearchCV(estimator=model, param_grid=dict(alpha=alphavec_r))\n",
    "grid.fit(X_tr, y_train_val)\n",
    "print(grid)\n",
    "# summarize the results of the grid search\n",
    "print(grid.best_score_)\n",
    "print(grid.best_estimator_.alpha)"
   ]
  },
  {
   "cell_type": "markdown",
   "metadata": {},
   "source": [
    "# OLS in scikit-learn"
   ]
  },
  {
   "cell_type": "code",
   "execution_count": 1121,
   "metadata": {},
   "outputs": [
    {
     "data": {
      "text/plain": [
       "LinearRegression(copy_X=True, fit_intercept=True, n_jobs=None,\n",
       "         normalize=False)"
      ]
     },
     "execution_count": 1121,
     "metadata": {},
     "output_type": "execute_result"
    }
   ],
   "source": [
    "# Run the cross validation, find the best alpha, refit the model on all the data with that alpha\n",
    "ols_model = LinearRegression()\n",
    "ols_model.fit(X_tr, y_train_val)"
   ]
  },
  {
   "cell_type": "code",
   "execution_count": 1122,
   "metadata": {},
   "outputs": [
    {
     "data": {
      "text/plain": [
       "[('air_quality', -1.6811498252964447),\n",
       " ('rel_humidity', 0.010289521764647683),\n",
       " ('avg_num_clear_days', 0.08615124788329383),\n",
       " ('pct_area_water', -2.230080993849239),\n",
       " ('rainfall_inches', 3.1363886738114766),\n",
       " ('temp_f', 2.6356357325831317),\n",
       " ('highest_point_ft', -1.3656797723145195),\n",
       " ('mean_elevation_ft', 8.442832094214456),\n",
       " ('HM__x__RF', -0.6056386024301535),\n",
       " ('TM__x__RF', -4.911679411143402),\n",
       " ('HP__x__ME', -4.367994069633927),\n",
       " ('pct_area_water_bc', 4.936505861421),\n",
       " ('mean_elevation_bc', -1.1623781541278733),\n",
       " ('hp_bc', 0.4720201742880224)]"
      ]
     },
     "execution_count": 1122,
     "metadata": {},
     "output_type": "execute_result"
    }
   ],
   "source": [
    "list(zip(X_train_val.columns, ols_model.coef_))"
   ]
  },
  {
   "cell_type": "code",
   "execution_count": 1123,
   "metadata": {},
   "outputs": [],
   "source": [
    "# Make predictions on the test set using the ols model\n",
    "test_set_pred_ols = ols_model.predict(X_te)\n",
    "train_val_set_pred_ols = ols_model.predict(X_tr)"
   ]
  },
  {
   "cell_type": "code",
   "execution_count": 1124,
   "metadata": {},
   "outputs": [
    {
     "name": "stdout",
     "output_type": "stream",
     "text": [
      "OLS Model test_rmse:  3.44805251499422\n"
     ]
    }
   ],
   "source": [
    "# Find the RMSE and R^2 on the test set using this ols model\n",
    "test_mse = mse(y_test, test_set_pred_ols)\n",
    "print('OLS Model test_rmse: ', np.sqrt(test_mse))"
   ]
  },
  {
   "cell_type": "code",
   "execution_count": 1110,
   "metadata": {},
   "outputs": [
    {
     "data": {
      "image/png": "[encoded data removed]",
      "text/plain": [
       "<Figure size 720x432 with 1 Axes>"
      ]
     },
     "metadata": {},
     "output_type": "display_data"
    }
   ],
   "source": [
    "#Make a pretty seaborn plot:\n",
    "fig, ax = plt.subplots(figsize=(10,6))\n",
    "# sns.scatterplot(x=y_test, y=test_set_pred_lasso)\n",
    "sns.scatterplot(x=y_train_val, y=train_val_set_pred_lasso, marker = 'x')\n",
    "sns.scatterplot(x=y_train_val, y=train_val_set_pred_ridge)\n",
    "# sns.scatterplot(x=y_train_val, y=train_val_set_pred_ols, marker = '+')\n",
    "sns.lineplot(np.linspace(50,67,1000), np.linspace(50,67,1000), color='green')\n",
    "\n",
    "ax.legend(labels=[\"Perfect Prediction\", \"Lasso Prediction\", \"Ridge Prediction\"], loc = 4)\n",
    "ax.set(xlabel='True Happiness', ylabel='Predicted Happiness', title='Lasso vs. Ridge Regression')\n",
    "plt.savefig('data/lasso_v_ridge.png', dpi=100)\n",
    "plt.show()"
   ]
  },
  {
   "cell_type": "code",
   "execution_count": 1104,
   "metadata": {},
   "outputs": [
    {
     "ename": "TypeError",
     "evalue": "probplot() got an unexpected keyword argument 'marker'",
     "output_type": "error",
     "traceback": [
      "\u001b[0;31m---------------------------------------------------------------------------\u001b[0m",
      "\u001b[0;31mTypeError\u001b[0m                                 Traceback (most recent call last)",
      "\u001b[0;32m<ipython-input-1104-52849a7742df>\u001b[0m in \u001b[0;36m<module>\u001b[0;34m\u001b[0m\n\u001b[1;32m      5\u001b[0m \u001b[0;32mwith\u001b[0m \u001b[0msns\u001b[0m\u001b[0;34m.\u001b[0m\u001b[0maxes_style\u001b[0m\u001b[0;34m(\u001b[0m\u001b[0;34m'white'\u001b[0m\u001b[0;34m)\u001b[0m\u001b[0;34m:\u001b[0m\u001b[0;34m\u001b[0m\u001b[0;34m\u001b[0m\u001b[0m\n\u001b[1;32m      6\u001b[0m         \u001b[0mfig\u001b[0m\u001b[0;34m,\u001b[0m \u001b[0max\u001b[0m \u001b[0;34m=\u001b[0m \u001b[0mplt\u001b[0m\u001b[0;34m.\u001b[0m\u001b[0msubplots\u001b[0m\u001b[0;34m(\u001b[0m\u001b[0mfigsize\u001b[0m\u001b[0;34m=\u001b[0m\u001b[0;34m(\u001b[0m\u001b[0;36m10\u001b[0m\u001b[0;34m,\u001b[0m\u001b[0;36m6\u001b[0m\u001b[0;34m)\u001b[0m\u001b[0;34m)\u001b[0m\u001b[0;34m\u001b[0m\u001b[0;34m\u001b[0m\u001b[0m\n\u001b[0;32m----> 7\u001b[0;31m         \u001b[0mstats\u001b[0m\u001b[0;34m.\u001b[0m\u001b[0mprobplot\u001b[0m\u001b[0;34m(\u001b[0m\u001b[0mresid_ols\u001b[0m\u001b[0;34m,\u001b[0m \u001b[0mdist\u001b[0m\u001b[0;34m=\u001b[0m\u001b[0;34m\"norm\"\u001b[0m\u001b[0;34m,\u001b[0m \u001b[0mplot\u001b[0m\u001b[0;34m=\u001b[0m\u001b[0mplt\u001b[0m\u001b[0;34m,\u001b[0m \u001b[0mmarker\u001b[0m\u001b[0;34m=\u001b[0m\u001b[0;34m'x'\u001b[0m\u001b[0;34m)\u001b[0m\u001b[0;34m\u001b[0m\u001b[0;34m\u001b[0m\u001b[0m\n\u001b[0m\u001b[1;32m      8\u001b[0m         \u001b[0mstats\u001b[0m\u001b[0;34m.\u001b[0m\u001b[0mprobplot\u001b[0m\u001b[0;34m(\u001b[0m\u001b[0mresid_lasso\u001b[0m\u001b[0;34m,\u001b[0m \u001b[0mdist\u001b[0m\u001b[0;34m=\u001b[0m\u001b[0;34m\"norm\"\u001b[0m\u001b[0;34m,\u001b[0m \u001b[0mplot\u001b[0m\u001b[0;34m=\u001b[0m\u001b[0mplt\u001b[0m\u001b[0;34m)\u001b[0m\u001b[0;34m\u001b[0m\u001b[0;34m\u001b[0m\u001b[0m\n\u001b[1;32m      9\u001b[0m         \u001b[0mstats\u001b[0m\u001b[0;34m.\u001b[0m\u001b[0mprobplot\u001b[0m\u001b[0;34m(\u001b[0m\u001b[0mresid_ridge\u001b[0m\u001b[0;34m,\u001b[0m \u001b[0mdist\u001b[0m\u001b[0;34m=\u001b[0m\u001b[0;34m\"norm\"\u001b[0m\u001b[0;34m,\u001b[0m \u001b[0mplot\u001b[0m\u001b[0;34m=\u001b[0m\u001b[0mplt\u001b[0m\u001b[0;34m)\u001b[0m\u001b[0;34m\u001b[0m\u001b[0;34m\u001b[0m\u001b[0m\n",
      "\u001b[0;31mTypeError\u001b[0m: probplot() got an unexpected keyword argument 'marker'"
     ]
    },
    {
     "data": {
      "image/png": "[encoded data removed]",
      "text/plain": [
       "<Figure size 720x432 with 1 Axes>"
      ]
     },
     "metadata": {},
     "output_type": "display_data"
    }
   ],
   "source": [
    "# resid_lasso = y_train_val - train_val_set_pred_lasso\n",
    "# resid_ridge = y_train_val - train_val_set_pred_ridge\n",
    "# resid_ols = y_train_val - train_val_set_pred_ols\n",
    "\n",
    "# with sns.axes_style('white'):\n",
    "#         fig, ax = plt.subplots(figsize=(10,6))\n",
    "#         stats.probplot(resid_ols, dist=\"norm\", plot=plt, marker='x')\n",
    "#         stats.probplot(resid_lasso, dist=\"norm\", plot=plt)\n",
    "#         stats.probplot(resid_ridge, dist=\"norm\", plot=plt)\n",
    "#         plt.title(\"Normal Q-Q plot\")\n",
    "#         plt.show() "
   ]
  },
  {
   "cell_type": "code",
   "execution_count": null,
   "metadata": {},
   "outputs": [],
   "source": []
  }
 ],
 "metadata": {
  "kernelspec": {
   "display_name": "Python 3",
   "language": "python",
   "name": "python3"
  },
  "language_info": {
   "codemirror_mode": {
    "name": "ipython",
    "version": 3
   },
   "file_extension": ".py",
   "mimetype": "text/x-python",
   "name": "python",
   "nbconvert_exporter": "python",
   "pygments_lexer": "ipython3",
   "version": "3.7.2"
  }
 },
 "nbformat": 4,
 "nbformat_minor": 2
}
