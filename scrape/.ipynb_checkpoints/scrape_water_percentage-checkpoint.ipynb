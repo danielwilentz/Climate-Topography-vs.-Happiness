{
 "cells": [
  {
   "cell_type": "code",
   "execution_count": 2,
   "metadata": {},
   "outputs": [
    {
     "data": {
      "text/plain": [
       "['/anaconda3/lib/python3.7/site-packages/requests']"
      ]
     },
     "execution_count": 2,
     "metadata": {},
     "output_type": "execute_result"
    }
   ],
   "source": [
    "# Import libraries for scraping\n",
    "\n",
    "from __future__ import print_function, division\n",
    "import requests\n",
    "import re\n",
    "import pandas as pd\n",
    "from bs4 import BeautifulSoup\n",
    "requests.__path__"
   ]
  },
  {
   "cell_type": "code",
   "execution_count": 3,
   "metadata": {},
   "outputs": [],
   "source": [
    "# Connect to the website\n",
    "url = 'https://water.usgs.gov/edu/wetstates.html'\n",
    "response = requests.get(url)"
   ]
  },
  {
   "cell_type": "code",
   "execution_count": 4,
   "metadata": {},
   "outputs": [
    {
     "data": {
      "text/plain": [
       "200"
      ]
     },
     "execution_count": 4,
     "metadata": {},
     "output_type": "execute_result"
    }
   ],
   "source": [
    "# Check the status!\n",
    "response.status_code # status code = 200 => OK"
   ]
  },
  {
   "cell_type": "code",
   "execution_count": 5,
   "metadata": {},
   "outputs": [],
   "source": [
    "# Scrape\n",
    "page = response.text\n",
    "soup = BeautifulSoup(page, \"lxml\")"
   ]
  },
  {
   "cell_type": "code",
   "execution_count": 6,
   "metadata": {},
   "outputs": [
    {
     "name": "stdout",
     "output_type": "stream",
     "text": [
      "{'Alabama': 3.4, 'Alaska': 14.2, 'Arizona': 0.3, 'Arkansas': 2.1, 'California': 4.8, 'Colorado': 0.4, 'Connecticut': 12.6, 'Delaware': 21.7, 'District of Columbia': 10.3, 'Florida': 18.5, 'Georgia': 3.2, 'Hawaii': 41.2, 'Idaho': 1.1, 'Illinois': 4.1, 'Indiana': 1.6, 'Iowa': 0.7, 'Kansas': 0.6, 'Kentucky': 2.3, 'Louisiana': 17.5, 'Maine': 12.8, 'Maryland': 21.8, 'Massachusetts': 26.1, 'Michigan': 41.5, 'Minnesota': 8.4, 'Mississippi': 3.1, 'Missouri': 1.4, 'Montana': 1.0, 'Nebraska': 0.7, 'Nevada': 0.7, 'New Hampshire': 4.2, 'New Jersey': 15.7, 'New Mexico': 0.2, 'New York': 13.6, 'North Carolina': 9.7, 'North Dakota': 2.4, 'Ohio': 8.8, 'Oklahoma': 1.9, 'Oregon': 2.4, 'Pennsylvania': 2.8, 'Rhode Island': 33.1, 'South Carolina': 6.1, 'South Dakota': 1.7, 'Tennessee': 2.2, 'Texas': 2.7, 'Utah': 3.2, 'Vermont': 4.2, 'Virginia': 7.7, 'Washington': 6.8, 'West Virginia': 0.8, 'Wisconsin': 17.3, 'Wyoming': 0.7, 'United States': 7.0}\n"
     ]
    }
   ],
   "source": [
    "# Custom preprocessing for this webpage\n",
    "percentage_water = {}\n",
    "count = 0\n",
    "for link in soup.find_all('td'):\n",
    "    trimmed_text = str(link.renderContents().strip())\n",
    "    if count % 8 == 0:\n",
    "        state = re.search(\"'(.*)'\", trimmed_text).group(1)\n",
    "    if (count+1) % 8 == 0:\n",
    "        pct_water = re.search(\"'(.*)'\", trimmed_text).group(1)\n",
    "        pct_water = pct_water[:-1]\n",
    "        if \"r\" in pct_water:\n",
    "            pct_water = pct_water.split(\"r\")[0][:-1]            \n",
    "        percentage_water[state] = float(pct_water)\n",
    "\n",
    "    count += 1"
   ]
  },
  {
   "cell_type": "code",
   "execution_count": 7,
   "metadata": {},
   "outputs": [
    {
     "data": {
      "text/html": [
       "<div>\n",
       "<style scoped>\n",
       "    .dataframe tbody tr th:only-of-type {\n",
       "        vertical-align: middle;\n",
       "    }\n",
       "\n",
       "    .dataframe tbody tr th {\n",
       "        vertical-align: top;\n",
       "    }\n",
       "\n",
       "    .dataframe thead th {\n",
       "        text-align: right;\n",
       "    }\n",
       "</style>\n",
       "<table border=\"1\" class=\"dataframe\">\n",
       "  <thead>\n",
       "    <tr style=\"text-align: right;\">\n",
       "      <th></th>\n",
       "      <th>Percent Area Water</th>\n",
       "    </tr>\n",
       "  </thead>\n",
       "  <tbody>\n",
       "    <tr>\n",
       "      <th>Alabama</th>\n",
       "      <td>3.4</td>\n",
       "    </tr>\n",
       "    <tr>\n",
       "      <th>Alaska</th>\n",
       "      <td>14.2</td>\n",
       "    </tr>\n",
       "    <tr>\n",
       "      <th>Arizona</th>\n",
       "      <td>0.3</td>\n",
       "    </tr>\n",
       "    <tr>\n",
       "      <th>Arkansas</th>\n",
       "      <td>2.1</td>\n",
       "    </tr>\n",
       "    <tr>\n",
       "      <th>California</th>\n",
       "      <td>4.8</td>\n",
       "    </tr>\n",
       "    <tr>\n",
       "      <th>Colorado</th>\n",
       "      <td>0.4</td>\n",
       "    </tr>\n",
       "    <tr>\n",
       "      <th>Connecticut</th>\n",
       "      <td>12.6</td>\n",
       "    </tr>\n",
       "    <tr>\n",
       "      <th>Delaware</th>\n",
       "      <td>21.7</td>\n",
       "    </tr>\n",
       "    <tr>\n",
       "      <th>District of Columbia</th>\n",
       "      <td>10.3</td>\n",
       "    </tr>\n",
       "    <tr>\n",
       "      <th>Florida</th>\n",
       "      <td>18.5</td>\n",
       "    </tr>\n",
       "    <tr>\n",
       "      <th>Georgia</th>\n",
       "      <td>3.2</td>\n",
       "    </tr>\n",
       "    <tr>\n",
       "      <th>Hawaii</th>\n",
       "      <td>41.2</td>\n",
       "    </tr>\n",
       "    <tr>\n",
       "      <th>Idaho</th>\n",
       "      <td>1.1</td>\n",
       "    </tr>\n",
       "    <tr>\n",
       "      <th>Illinois</th>\n",
       "      <td>4.1</td>\n",
       "    </tr>\n",
       "    <tr>\n",
       "      <th>Indiana</th>\n",
       "      <td>1.6</td>\n",
       "    </tr>\n",
       "    <tr>\n",
       "      <th>Iowa</th>\n",
       "      <td>0.7</td>\n",
       "    </tr>\n",
       "    <tr>\n",
       "      <th>Kansas</th>\n",
       "      <td>0.6</td>\n",
       "    </tr>\n",
       "    <tr>\n",
       "      <th>Kentucky</th>\n",
       "      <td>2.3</td>\n",
       "    </tr>\n",
       "    <tr>\n",
       "      <th>Louisiana</th>\n",
       "      <td>17.5</td>\n",
       "    </tr>\n",
       "    <tr>\n",
       "      <th>Maine</th>\n",
       "      <td>12.8</td>\n",
       "    </tr>\n",
       "    <tr>\n",
       "      <th>Maryland</th>\n",
       "      <td>21.8</td>\n",
       "    </tr>\n",
       "    <tr>\n",
       "      <th>Massachusetts</th>\n",
       "      <td>26.1</td>\n",
       "    </tr>\n",
       "    <tr>\n",
       "      <th>Michigan</th>\n",
       "      <td>41.5</td>\n",
       "    </tr>\n",
       "    <tr>\n",
       "      <th>Minnesota</th>\n",
       "      <td>8.4</td>\n",
       "    </tr>\n",
       "    <tr>\n",
       "      <th>Mississippi</th>\n",
       "      <td>3.1</td>\n",
       "    </tr>\n",
       "  </tbody>\n",
       "</table>\n",
       "</div>"
      ],
      "text/plain": [
       "                      Percent Area Water\n",
       "Alabama                              3.4\n",
       "Alaska                              14.2\n",
       "Arizona                              0.3\n",
       "Arkansas                             2.1\n",
       "California                           4.8\n",
       "Colorado                             0.4\n",
       "Connecticut                         12.6\n",
       "Delaware                            21.7\n",
       "District of Columbia                10.3\n",
       "Florida                             18.5\n",
       "Georgia                              3.2\n",
       "Hawaii                              41.2\n",
       "Idaho                                1.1\n",
       "Illinois                             4.1\n",
       "Indiana                              1.6\n",
       "Iowa                                 0.7\n",
       "Kansas                               0.6\n",
       "Kentucky                             2.3\n",
       "Louisiana                           17.5\n",
       "Maine                               12.8\n",
       "Maryland                            21.8\n",
       "Massachusetts                       26.1\n",
       "Michigan                            41.5\n",
       "Minnesota                            8.4\n",
       "Mississippi                          3.1"
      ]
     },
     "execution_count": 7,
     "metadata": {},
     "output_type": "execute_result"
    }
   ],
   "source": [
    "pct_water_df = pd.DataFrame.from_dict(percentage_water, orient='index', columns=['Percent Area Water'])\n",
    "pct_water_df.head(25)"
   ]
  },
  {
   "cell_type": "code",
   "execution_count": 8,
   "metadata": {},
   "outputs": [],
   "source": [
    "pct_water_df.to_pickle('~/ds/metis/metisgh/project_luther/data/pickles/pct_water.pkl')"
   ]
  }
 ],
 "metadata": {
  "kernelspec": {
   "display_name": "Python 3",
   "language": "python",
   "name": "python3"
  },
  "language_info": {
   "codemirror_mode": {
    "name": "ipython",
    "version": 3
   },
   "file_extension": ".py",
   "mimetype": "text/x-python",
   "name": "python",
   "nbconvert_exporter": "python",
   "pygments_lexer": "ipython3",
   "version": "3.7.2"
  }
 },
 "nbformat": 4,
 "nbformat_minor": 2
}
