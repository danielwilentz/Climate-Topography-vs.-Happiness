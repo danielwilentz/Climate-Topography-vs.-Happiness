{
 "cells": [
  {
   "cell_type": "code",
   "execution_count": 1,
   "metadata": {},
   "outputs": [
    {
     "data": {
      "text/plain": [
       "['/anaconda3/lib/python3.7/site-packages/requests']"
      ]
     },
     "execution_count": 1,
     "metadata": {},
     "output_type": "execute_result"
    }
   ],
   "source": [
    "# Import libraries for scraping\n",
    "\n",
    "from __future__ import print_function, division\n",
    "import requests\n",
    "import re\n",
    "import pandas as pd\n",
    "from bs4 import BeautifulSoup\n",
    "requests.__path__"
   ]
  },
  {
   "cell_type": "code",
   "execution_count": 2,
   "metadata": {},
   "outputs": [],
   "source": [
    "# Connect to the website\n",
    "url = 'http://www.usa.com/rank/us--air-quality-index--state-rank.htm'\n",
    "response = requests.get(url)"
   ]
  },
  {
   "cell_type": "code",
   "execution_count": 3,
   "metadata": {},
   "outputs": [
    {
     "data": {
      "text/plain": [
       "200"
      ]
     },
     "execution_count": 3,
     "metadata": {},
     "output_type": "execute_result"
    }
   ],
   "source": [
    "# Check the status!\n",
    "response.status_code # status code = 200 => OK"
   ]
  },
  {
   "cell_type": "code",
   "execution_count": 4,
   "metadata": {},
   "outputs": [],
   "source": [
    "# Scrape\n",
    "page = response.text\n",
    "soup = BeautifulSoup(page, \"lxml\")"
   ]
  },
  {
   "cell_type": "code",
   "execution_count": 5,
   "metadata": {},
   "outputs": [
    {
     "name": "stdout",
     "output_type": "stream",
     "text": [
      "{'Utah': 51.2, 'Ohio': 48.2, 'Georgia': 48.2, 'West Virginia': 47.6, 'Indiana': 47.5, 'Tennessee': 47.5, 'Colorado': 47.1, 'Maryland': 47.0, 'District of Columbia': 46.8, 'Alabama': 46.6, 'North Carolina': 46.5, 'Delaware': 46.4, 'Kentucky': 46.1, 'California': 46.0, 'Pennsylvania': 45.6, 'Arizona': 45.4, 'Wyoming': 45.0, 'Connecticut': 45.0, 'Virginia': 45.0, 'South Carolina': 44.8, 'Idaho': 44.3, 'New Jersey': 44.1, 'Missouri': 44.0, 'Rhode Island': 43.7, 'Mississippi': 43.7, 'Illinois': 43.6, 'Oklahoma': 43.5, 'Arkansas': 43.1, 'Kansas': 42.8, 'Michigan': 42.5, 'Nevada': 42.1, 'New Mexico': 42.1, 'Massachusetts': 41.4, 'Texas': 41.0, 'Louisiana': 40.4, 'New York': 40.4, 'South Dakota': 39.6, 'Montana': 39.6, 'Wisconsin': 39.5, 'New Hampshire': 38.9, 'Florida': 38.9, 'Vermont': 38.5, 'Minnesota': 38.3, 'Iowa': 37.6, 'North Dakota': 37.0, 'Nebraska': 37.0, 'Maine': 36.5, 'Oregon': 36.1, 'Washington': 33.5, 'Alaska': 29.1, 'Hawaii': 21.2}\n"
     ]
    }
   ],
   "source": [
    "# Custom preprocessing for this webpage\n",
    "air_quality = {}\n",
    "count = 0\n",
    "for link in soup.find_all('td'):\n",
    "    if count > 5:\n",
    "        trimmed_text = str(link.renderContents().strip())\n",
    "        if count % 3 == 0:\n",
    "            quality = float(trimmed_text.split(\"'\")[1])\n",
    "        if (count-1) % 3 == 0:\n",
    "            state = re.search('>(.*)<', trimmed_text).group(1)\n",
    "            air_quality[state] = quality\n",
    "\n",
    "    count += 1\n",
    "print(air_quality)"
   ]
  },
  {
   "cell_type": "code",
   "execution_count": 6,
   "metadata": {},
   "outputs": [
    {
     "data": {
      "text/html": [
       "<div>\n",
       "<style scoped>\n",
       "    .dataframe tbody tr th:only-of-type {\n",
       "        vertical-align: middle;\n",
       "    }\n",
       "\n",
       "    .dataframe tbody tr th {\n",
       "        vertical-align: top;\n",
       "    }\n",
       "\n",
       "    .dataframe thead th {\n",
       "        text-align: right;\n",
       "    }\n",
       "</style>\n",
       "<table border=\"1\" class=\"dataframe\">\n",
       "  <thead>\n",
       "    <tr style=\"text-align: right;\">\n",
       "      <th></th>\n",
       "      <th>Air Quality Index</th>\n",
       "    </tr>\n",
       "  </thead>\n",
       "  <tbody>\n",
       "    <tr>\n",
       "      <th>Utah</th>\n",
       "      <td>51.2</td>\n",
       "    </tr>\n",
       "    <tr>\n",
       "      <th>Ohio</th>\n",
       "      <td>48.2</td>\n",
       "    </tr>\n",
       "    <tr>\n",
       "      <th>Georgia</th>\n",
       "      <td>48.2</td>\n",
       "    </tr>\n",
       "    <tr>\n",
       "      <th>West Virginia</th>\n",
       "      <td>47.6</td>\n",
       "    </tr>\n",
       "    <tr>\n",
       "      <th>Indiana</th>\n",
       "      <td>47.5</td>\n",
       "    </tr>\n",
       "    <tr>\n",
       "      <th>Tennessee</th>\n",
       "      <td>47.5</td>\n",
       "    </tr>\n",
       "    <tr>\n",
       "      <th>Colorado</th>\n",
       "      <td>47.1</td>\n",
       "    </tr>\n",
       "    <tr>\n",
       "      <th>Maryland</th>\n",
       "      <td>47.0</td>\n",
       "    </tr>\n",
       "    <tr>\n",
       "      <th>District of Columbia</th>\n",
       "      <td>46.8</td>\n",
       "    </tr>\n",
       "    <tr>\n",
       "      <th>Alabama</th>\n",
       "      <td>46.6</td>\n",
       "    </tr>\n",
       "    <tr>\n",
       "      <th>North Carolina</th>\n",
       "      <td>46.5</td>\n",
       "    </tr>\n",
       "    <tr>\n",
       "      <th>Delaware</th>\n",
       "      <td>46.4</td>\n",
       "    </tr>\n",
       "    <tr>\n",
       "      <th>Kentucky</th>\n",
       "      <td>46.1</td>\n",
       "    </tr>\n",
       "    <tr>\n",
       "      <th>California</th>\n",
       "      <td>46.0</td>\n",
       "    </tr>\n",
       "    <tr>\n",
       "      <th>Pennsylvania</th>\n",
       "      <td>45.6</td>\n",
       "    </tr>\n",
       "    <tr>\n",
       "      <th>Arizona</th>\n",
       "      <td>45.4</td>\n",
       "    </tr>\n",
       "    <tr>\n",
       "      <th>Wyoming</th>\n",
       "      <td>45.0</td>\n",
       "    </tr>\n",
       "    <tr>\n",
       "      <th>Connecticut</th>\n",
       "      <td>45.0</td>\n",
       "    </tr>\n",
       "    <tr>\n",
       "      <th>Virginia</th>\n",
       "      <td>45.0</td>\n",
       "    </tr>\n",
       "    <tr>\n",
       "      <th>South Carolina</th>\n",
       "      <td>44.8</td>\n",
       "    </tr>\n",
       "    <tr>\n",
       "      <th>Idaho</th>\n",
       "      <td>44.3</td>\n",
       "    </tr>\n",
       "    <tr>\n",
       "      <th>New Jersey</th>\n",
       "      <td>44.1</td>\n",
       "    </tr>\n",
       "    <tr>\n",
       "      <th>Missouri</th>\n",
       "      <td>44.0</td>\n",
       "    </tr>\n",
       "    <tr>\n",
       "      <th>Rhode Island</th>\n",
       "      <td>43.7</td>\n",
       "    </tr>\n",
       "    <tr>\n",
       "      <th>Mississippi</th>\n",
       "      <td>43.7</td>\n",
       "    </tr>\n",
       "  </tbody>\n",
       "</table>\n",
       "</div>"
      ],
      "text/plain": [
       "                      Air Quality Index\n",
       "Utah                               51.2\n",
       "Ohio                               48.2\n",
       "Georgia                            48.2\n",
       "West Virginia                      47.6\n",
       "Indiana                            47.5\n",
       "Tennessee                          47.5\n",
       "Colorado                           47.1\n",
       "Maryland                           47.0\n",
       "District of Columbia               46.8\n",
       "Alabama                            46.6\n",
       "North Carolina                     46.5\n",
       "Delaware                           46.4\n",
       "Kentucky                           46.1\n",
       "California                         46.0\n",
       "Pennsylvania                       45.6\n",
       "Arizona                            45.4\n",
       "Wyoming                            45.0\n",
       "Connecticut                        45.0\n",
       "Virginia                           45.0\n",
       "South Carolina                     44.8\n",
       "Idaho                              44.3\n",
       "New Jersey                         44.1\n",
       "Missouri                           44.0\n",
       "Rhode Island                       43.7\n",
       "Mississippi                        43.7"
      ]
     },
     "execution_count": 6,
     "metadata": {},
     "output_type": "execute_result"
    }
   ],
   "source": [
    "# Send dict to a dataframe\n",
    "air_quality_df = pd.DataFrame.from_dict(air_quality, orient='index', columns=['Air Quality Index'])\n",
    "air_quality_df.head(25)"
   ]
  },
  {
   "cell_type": "code",
   "execution_count": 7,
   "metadata": {},
   "outputs": [],
   "source": [
    "# Pickle\n",
    "air_quality_df.to_pickle('~/ds/metis/metisgh/project_luther/data/pickles/air_quality.pkl')"
   ]
  },
  {
   "cell_type": "code",
   "execution_count": null,
   "metadata": {},
   "outputs": [],
   "source": []
  }
 ],
 "metadata": {
  "kernelspec": {
   "display_name": "Python 3",
   "language": "python",
   "name": "python3"
  },
  "language_info": {
   "codemirror_mode": {
    "name": "ipython",
    "version": 3
   },
   "file_extension": ".py",
   "mimetype": "text/x-python",
   "name": "python",
   "nbconvert_exporter": "python",
   "pygments_lexer": "ipython3",
   "version": "3.7.2"
  }
 },
 "nbformat": 4,
 "nbformat_minor": 2
}
