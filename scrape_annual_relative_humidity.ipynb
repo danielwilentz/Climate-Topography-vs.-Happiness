{
 "cells": [
  {
   "cell_type": "code",
   "execution_count": 1,
   "metadata": {},
   "outputs": [
    {
     "data": {
      "text/plain": [
       "['/anaconda3/lib/python3.7/site-packages/requests']"
      ]
     },
     "execution_count": 1,
     "metadata": {},
     "output_type": "execute_result"
    }
   ],
   "source": [
    "from __future__ import print_function, division\n",
    "import requests\n",
    "import re\n",
    "import pandas as pd\n",
    "from bs4 import BeautifulSoup\n",
    "requests.__path__"
   ]
  },
  {
   "cell_type": "code",
   "execution_count": 2,
   "metadata": {},
   "outputs": [],
   "source": [
    "# URL for relative humidity\n",
    "\n",
    "url = 'https://www.currentresults.com/Weather/US/annual-average-humidity-by-state.php'\n",
    "response = requests.get(url)"
   ]
  },
  {
   "cell_type": "code",
   "execution_count": 3,
   "metadata": {},
   "outputs": [
    {
     "data": {
      "text/plain": [
       "200"
      ]
     },
     "execution_count": 3,
     "metadata": {},
     "output_type": "execute_result"
    }
   ],
   "source": [
    "response.status_code # status code = 200 => OK"
   ]
  },
  {
   "cell_type": "code",
   "execution_count": 4,
   "metadata": {},
   "outputs": [],
   "source": [
    "# convert to a BeautifulSoup Object\n",
    "\n",
    "page = response.text\n",
    "soup = BeautifulSoup(page, \"lxml\")"
   ]
  },
  {
   "cell_type": "code",
   "execution_count": 36,
   "metadata": {},
   "outputs": [
    {
     "name": "stdout",
     "output_type": "stream",
     "text": [
      "{'Alabama': 52, 'Alaska': 64, 'Arizona': 25, 'Arkansas': 49, 'California': 62, 'Colorado': 35, 'Connecticut': 52, 'Delaware': 54, 'Florida': 57, 'Georgia': 50, 'Hawaii': 56, 'Idaho': 41, 'Illinois': 58, 'Indiana': 58, 'Iowa': 56, 'Kansas': 50, 'Kentucky': 55, 'Louisiana': 61, 'Maine': 61, 'Maryland': 52, 'Massachusetts': 59, 'Michigan': 61, 'Minnesota': 55, 'Mississippi': 54, 'Missouri': 53, 'Montana': 45, 'Nebraska': 53, 'Nevada': 32, 'New Hampshire': 53, 'New Jersey': 59, 'New Mexico': 29, 'New York': 61, 'North Carolina': 52, 'North Dakota': 51, 'Ohio': 57, 'Oklahoma': 48, 'Oregon': 59, 'Pennsylvania': 54, 'Rhode Island': 57, 'South Carolina': 49, 'South Dakota': 53, 'Tennessee': 53, 'Texas': 49, 'Utah': 43, 'Vermont': 58, 'Virginia': 52, 'Washington': 62, 'West Virginia': 59, 'Wisconsin': 58, 'Wyoming': 43}\n"
     ]
    }
   ],
   "source": [
    "# Iterate through 'td' tags on table and extract state name and relative humidity with a counter,\n",
    "# putting them into a dict\n",
    "\n",
    "# Hard fix for the names \"Connecticut\" and \"Massachusetts\"\n",
    "\n",
    "humidity = {}\n",
    "count = 0\n",
    "for link in soup.find_all('td'):\n",
    "    trimmed_text = str(link.renderContents().strip())\n",
    "    if count % 4 == 0:\n",
    "        state = re.search(\">(.*)<\", trimmed_text).group(1)\n",
    "        if 'Connect' in state:\n",
    "            state = 'Connecticut'\n",
    "        if 'Mass' in state:\n",
    "            state = 'Massachusetts'\n",
    "    if (count-3) % 4 == 0:\n",
    "#         print(count, int(trimmed_text[2:-1]))\n",
    "        humidity[state] = int(trimmed_text[2:-1])\n",
    "\n",
    "    count += 1\n",
    "\n",
    "print(humidity)\n"
   ]
  },
  {
   "cell_type": "code",
   "execution_count": 37,
   "metadata": {},
   "outputs": [
    {
     "data": {
      "text/html": [
       "<div>\n",
       "<style scoped>\n",
       "    .dataframe tbody tr th:only-of-type {\n",
       "        vertical-align: middle;\n",
       "    }\n",
       "\n",
       "    .dataframe tbody tr th {\n",
       "        vertical-align: top;\n",
       "    }\n",
       "\n",
       "    .dataframe thead th {\n",
       "        text-align: right;\n",
       "    }\n",
       "</style>\n",
       "<table border=\"1\" class=\"dataframe\">\n",
       "  <thead>\n",
       "    <tr style=\"text-align: right;\">\n",
       "      <th></th>\n",
       "      <th>Relative Humidity</th>\n",
       "    </tr>\n",
       "  </thead>\n",
       "  <tbody>\n",
       "    <tr>\n",
       "      <th>Alabama</th>\n",
       "      <td>52</td>\n",
       "    </tr>\n",
       "    <tr>\n",
       "      <th>Alaska</th>\n",
       "      <td>64</td>\n",
       "    </tr>\n",
       "    <tr>\n",
       "      <th>Arizona</th>\n",
       "      <td>25</td>\n",
       "    </tr>\n",
       "    <tr>\n",
       "      <th>Arkansas</th>\n",
       "      <td>49</td>\n",
       "    </tr>\n",
       "    <tr>\n",
       "      <th>California</th>\n",
       "      <td>62</td>\n",
       "    </tr>\n",
       "    <tr>\n",
       "      <th>Colorado</th>\n",
       "      <td>35</td>\n",
       "    </tr>\n",
       "    <tr>\n",
       "      <th>Connecticut</th>\n",
       "      <td>52</td>\n",
       "    </tr>\n",
       "    <tr>\n",
       "      <th>Delaware</th>\n",
       "      <td>54</td>\n",
       "    </tr>\n",
       "    <tr>\n",
       "      <th>Florida</th>\n",
       "      <td>57</td>\n",
       "    </tr>\n",
       "    <tr>\n",
       "      <th>Georgia</th>\n",
       "      <td>50</td>\n",
       "    </tr>\n",
       "    <tr>\n",
       "      <th>Hawaii</th>\n",
       "      <td>56</td>\n",
       "    </tr>\n",
       "    <tr>\n",
       "      <th>Idaho</th>\n",
       "      <td>41</td>\n",
       "    </tr>\n",
       "    <tr>\n",
       "      <th>Illinois</th>\n",
       "      <td>58</td>\n",
       "    </tr>\n",
       "    <tr>\n",
       "      <th>Indiana</th>\n",
       "      <td>58</td>\n",
       "    </tr>\n",
       "    <tr>\n",
       "      <th>Iowa</th>\n",
       "      <td>56</td>\n",
       "    </tr>\n",
       "    <tr>\n",
       "      <th>Kansas</th>\n",
       "      <td>50</td>\n",
       "    </tr>\n",
       "    <tr>\n",
       "      <th>Kentucky</th>\n",
       "      <td>55</td>\n",
       "    </tr>\n",
       "    <tr>\n",
       "      <th>Louisiana</th>\n",
       "      <td>61</td>\n",
       "    </tr>\n",
       "    <tr>\n",
       "      <th>Maine</th>\n",
       "      <td>61</td>\n",
       "    </tr>\n",
       "    <tr>\n",
       "      <th>Maryland</th>\n",
       "      <td>52</td>\n",
       "    </tr>\n",
       "    <tr>\n",
       "      <th>Massachusetts</th>\n",
       "      <td>59</td>\n",
       "    </tr>\n",
       "    <tr>\n",
       "      <th>Michigan</th>\n",
       "      <td>61</td>\n",
       "    </tr>\n",
       "    <tr>\n",
       "      <th>Minnesota</th>\n",
       "      <td>55</td>\n",
       "    </tr>\n",
       "    <tr>\n",
       "      <th>Mississippi</th>\n",
       "      <td>54</td>\n",
       "    </tr>\n",
       "    <tr>\n",
       "      <th>Missouri</th>\n",
       "      <td>53</td>\n",
       "    </tr>\n",
       "  </tbody>\n",
       "</table>\n",
       "</div>"
      ],
      "text/plain": [
       "               Relative Humidity\n",
       "Alabama                       52\n",
       "Alaska                        64\n",
       "Arizona                       25\n",
       "Arkansas                      49\n",
       "California                    62\n",
       "Colorado                      35\n",
       "Connecticut                   52\n",
       "Delaware                      54\n",
       "Florida                       57\n",
       "Georgia                       50\n",
       "Hawaii                        56\n",
       "Idaho                         41\n",
       "Illinois                      58\n",
       "Indiana                       58\n",
       "Iowa                          56\n",
       "Kansas                        50\n",
       "Kentucky                      55\n",
       "Louisiana                     61\n",
       "Maine                         61\n",
       "Maryland                      52\n",
       "Massachusetts                 59\n",
       "Michigan                      61\n",
       "Minnesota                     55\n",
       "Mississippi                   54\n",
       "Missouri                      53"
      ]
     },
     "execution_count": 37,
     "metadata": {},
     "output_type": "execute_result"
    }
   ],
   "source": [
    "humidity_df = pd.DataFrame.from_dict(humidity, orient='index', columns=['Relative Humidity'])\n",
    "humidity_df.head(25)"
   ]
  },
  {
   "cell_type": "code",
   "execution_count": null,
   "metadata": {},
   "outputs": [],
   "source": []
  }
 ],
 "metadata": {
  "kernelspec": {
   "display_name": "Python 3",
   "language": "python",
   "name": "python3"
  },
  "language_info": {
   "codemirror_mode": {
    "name": "ipython",
    "version": 3
   },
   "file_extension": ".py",
   "mimetype": "text/x-python",
   "name": "python",
   "nbconvert_exporter": "python",
   "pygments_lexer": "ipython3",
   "version": "3.7.2"
  }
 },
 "nbformat": 4,
 "nbformat_minor": 2
}
